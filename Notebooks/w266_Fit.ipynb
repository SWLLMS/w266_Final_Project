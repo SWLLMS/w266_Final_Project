{
  "cells": [
    {
      "cell_type": "markdown",
      "metadata": {
        "id": "haN7EGS7Bhsu"
      },
      "source": [
        "### Libraries & Packages"
      ]
    },
    {
      "cell_type": "code",
      "execution_count": null,
      "metadata": {
        "colab": {
          "base_uri": "https://localhost:8080/"
        },
        "id": "KiYSXzjZuYB5",
        "outputId": "d18288f4-740a-4e45-e90d-59277afdd568"
      },
      "outputs": [
        {
          "output_type": "stream",
          "name": "stdout",
          "text": [
            "Requirement already satisfied: pydot in /usr/local/lib/python3.10/dist-packages (1.4.2)\n",
            "Requirement already satisfied: pyparsing>=2.1.4 in /usr/local/lib/python3.10/dist-packages (from pydot) (3.1.0)\n"
          ]
        }
      ],
      "source": [
        "# data processessing packages\n",
        "import numpy as np\n",
        "import pandas as pd\n",
        "from sklearn.model_selection import train_test_split\n",
        "from sklearn.metrics import confusion_matrix\n",
        "import matplotlib.pyplot as plt\n",
        "import seaborn as sns\n",
        "\n",
        "## NN packages\n",
        "import tensorflow as tf\n",
        "from tensorflow import keras\n",
        "from tensorflow.keras.optimizers.schedules import PolynomialDecay\n",
        "from sklearn.metrics import classification_report\n",
        "\n",
        "# NLP packages\n",
        "!pip install -q transformers\n",
        "!pip install pydot\n",
        "from transformers import BertTokenizer,TFAutoModel, TFBertModel, BertForSequenceClassification,TFAutoModelForSequenceClassification\n",
        "\n",
        "\n"
      ]
    },
    {
      "cell_type": "markdown",
      "metadata": {
        "id": "3OovhOfqE3rV"
      },
      "source": [
        "### Importing/Preprocessing data"
      ]
    },
    {
      "cell_type": "code",
      "source": [
        "from google.colab import drive\n",
        "drive.mount('/content/drive')"
      ],
      "metadata": {
        "colab": {
          "base_uri": "https://localhost:8080/"
        },
        "id": "loUDcXYDEHRV",
        "outputId": "822aa4fc-7cf6-4c08-8076-c9ee1e66002e"
      },
      "execution_count": null,
      "outputs": [
        {
          "output_type": "stream",
          "name": "stdout",
          "text": [
            "Mounted at /content/drive\n"
          ]
        }
      ]
    },
    {
      "cell_type": "code",
      "execution_count": null,
      "metadata": {
        "id": "qqfCwYKeE7dk"
      },
      "outputs": [],
      "source": [
        "train_data = pd.read_csv('/content/clean_train_data.csv')\n",
        "test_data = pd.read_csv('/content/clean_test_data.csv')"
      ]
    },
    {
      "cell_type": "code",
      "execution_count": null,
      "metadata": {
        "colab": {
          "base_uri": "https://localhost:8080/",
          "height": 419
        },
        "id": "4PioatPOGGhs",
        "outputId": "b651e748-ec22-4937-ae87-2d23ceea5f1f"
      },
      "outputs": [
        {
          "output_type": "execute_result",
          "data": {
            "text/plain": [
              "       Unnamed: 0                                               text  label\n",
              "0               0  Here are Thursday's biggest analyst calls: App...      0\n",
              "1               1  Buy Las Vegas Sands as travel to Singapore bui...      0\n",
              "2               2  Piper Sandler downgrades DocuSign to sell, cit...      0\n",
              "3               3  Analysts react to Tesla's latest earnings, bre...      0\n",
              "4               4  Netflix and its peers are set for a ‘return to...      0\n",
              "...           ...                                                ...    ...\n",
              "16985       16985  KfW credit line for Uniper could be raised to ...      3\n",
              "16986       16986  KfW credit line for Uniper could be raised to ...      3\n",
              "16987       16987  Russian   sells 1 bln roubles at one-year repo...      3\n",
              "16988       16988  Global ESG bond issuance posts H1 dip as supra...      3\n",
              "16989       16989  Brazil's Petrobras says it signed a $1.25 bill...      3\n",
              "\n",
              "[16990 rows x 3 columns]"
            ],
            "text/html": [
              "\n",
              "\n",
              "  <div id=\"df-ab9f4253-2260-453f-a115-632d82b74a5e\">\n",
              "    <div class=\"colab-df-container\">\n",
              "      <div>\n",
              "<style scoped>\n",
              "    .dataframe tbody tr th:only-of-type {\n",
              "        vertical-align: middle;\n",
              "    }\n",
              "\n",
              "    .dataframe tbody tr th {\n",
              "        vertical-align: top;\n",
              "    }\n",
              "\n",
              "    .dataframe thead th {\n",
              "        text-align: right;\n",
              "    }\n",
              "</style>\n",
              "<table border=\"1\" class=\"dataframe\">\n",
              "  <thead>\n",
              "    <tr style=\"text-align: right;\">\n",
              "      <th></th>\n",
              "      <th>Unnamed: 0</th>\n",
              "      <th>text</th>\n",
              "      <th>label</th>\n",
              "    </tr>\n",
              "  </thead>\n",
              "  <tbody>\n",
              "    <tr>\n",
              "      <th>0</th>\n",
              "      <td>0</td>\n",
              "      <td>Here are Thursday's biggest analyst calls: App...</td>\n",
              "      <td>0</td>\n",
              "    </tr>\n",
              "    <tr>\n",
              "      <th>1</th>\n",
              "      <td>1</td>\n",
              "      <td>Buy Las Vegas Sands as travel to Singapore bui...</td>\n",
              "      <td>0</td>\n",
              "    </tr>\n",
              "    <tr>\n",
              "      <th>2</th>\n",
              "      <td>2</td>\n",
              "      <td>Piper Sandler downgrades DocuSign to sell, cit...</td>\n",
              "      <td>0</td>\n",
              "    </tr>\n",
              "    <tr>\n",
              "      <th>3</th>\n",
              "      <td>3</td>\n",
              "      <td>Analysts react to Tesla's latest earnings, bre...</td>\n",
              "      <td>0</td>\n",
              "    </tr>\n",
              "    <tr>\n",
              "      <th>4</th>\n",
              "      <td>4</td>\n",
              "      <td>Netflix and its peers are set for a ‘return to...</td>\n",
              "      <td>0</td>\n",
              "    </tr>\n",
              "    <tr>\n",
              "      <th>...</th>\n",
              "      <td>...</td>\n",
              "      <td>...</td>\n",
              "      <td>...</td>\n",
              "    </tr>\n",
              "    <tr>\n",
              "      <th>16985</th>\n",
              "      <td>16985</td>\n",
              "      <td>KfW credit line for Uniper could be raised to ...</td>\n",
              "      <td>3</td>\n",
              "    </tr>\n",
              "    <tr>\n",
              "      <th>16986</th>\n",
              "      <td>16986</td>\n",
              "      <td>KfW credit line for Uniper could be raised to ...</td>\n",
              "      <td>3</td>\n",
              "    </tr>\n",
              "    <tr>\n",
              "      <th>16987</th>\n",
              "      <td>16987</td>\n",
              "      <td>Russian   sells 1 bln roubles at one-year repo...</td>\n",
              "      <td>3</td>\n",
              "    </tr>\n",
              "    <tr>\n",
              "      <th>16988</th>\n",
              "      <td>16988</td>\n",
              "      <td>Global ESG bond issuance posts H1 dip as supra...</td>\n",
              "      <td>3</td>\n",
              "    </tr>\n",
              "    <tr>\n",
              "      <th>16989</th>\n",
              "      <td>16989</td>\n",
              "      <td>Brazil's Petrobras says it signed a $1.25 bill...</td>\n",
              "      <td>3</td>\n",
              "    </tr>\n",
              "  </tbody>\n",
              "</table>\n",
              "<p>16990 rows × 3 columns</p>\n",
              "</div>\n",
              "      <button class=\"colab-df-convert\" onclick=\"convertToInteractive('df-ab9f4253-2260-453f-a115-632d82b74a5e')\"\n",
              "              title=\"Convert this dataframe to an interactive table.\"\n",
              "              style=\"display:none;\">\n",
              "\n",
              "  <svg xmlns=\"http://www.w3.org/2000/svg\" height=\"24px\"viewBox=\"0 0 24 24\"\n",
              "       width=\"24px\">\n",
              "    <path d=\"M0 0h24v24H0V0z\" fill=\"none\"/>\n",
              "    <path d=\"M18.56 5.44l.94 2.06.94-2.06 2.06-.94-2.06-.94-.94-2.06-.94 2.06-2.06.94zm-11 1L8.5 8.5l.94-2.06 2.06-.94-2.06-.94L8.5 2.5l-.94 2.06-2.06.94zm10 10l.94 2.06.94-2.06 2.06-.94-2.06-.94-.94-2.06-.94 2.06-2.06.94z\"/><path d=\"M17.41 7.96l-1.37-1.37c-.4-.4-.92-.59-1.43-.59-.52 0-1.04.2-1.43.59L10.3 9.45l-7.72 7.72c-.78.78-.78 2.05 0 2.83L4 21.41c.39.39.9.59 1.41.59.51 0 1.02-.2 1.41-.59l7.78-7.78 2.81-2.81c.8-.78.8-2.07 0-2.86zM5.41 20L4 18.59l7.72-7.72 1.47 1.35L5.41 20z\"/>\n",
              "  </svg>\n",
              "      </button>\n",
              "\n",
              "\n",
              "\n",
              "    <div id=\"df-2e817a7f-ce73-4e25-b66c-2bf1726e37cb\">\n",
              "      <button class=\"colab-df-quickchart\" onclick=\"quickchart('df-2e817a7f-ce73-4e25-b66c-2bf1726e37cb')\"\n",
              "              title=\"Suggest charts.\"\n",
              "              style=\"display:none;\">\n",
              "\n",
              "<svg xmlns=\"http://www.w3.org/2000/svg\" height=\"24px\"viewBox=\"0 0 24 24\"\n",
              "     width=\"24px\">\n",
              "    <g>\n",
              "        <path d=\"M19 3H5c-1.1 0-2 .9-2 2v14c0 1.1.9 2 2 2h14c1.1 0 2-.9 2-2V5c0-1.1-.9-2-2-2zM9 17H7v-7h2v7zm4 0h-2V7h2v10zm4 0h-2v-4h2v4z\"/>\n",
              "    </g>\n",
              "</svg>\n",
              "      </button>\n",
              "    </div>\n",
              "\n",
              "<style>\n",
              "  .colab-df-quickchart {\n",
              "    background-color: #E8F0FE;\n",
              "    border: none;\n",
              "    border-radius: 50%;\n",
              "    cursor: pointer;\n",
              "    display: none;\n",
              "    fill: #1967D2;\n",
              "    height: 32px;\n",
              "    padding: 0 0 0 0;\n",
              "    width: 32px;\n",
              "  }\n",
              "\n",
              "  .colab-df-quickchart:hover {\n",
              "    background-color: #E2EBFA;\n",
              "    box-shadow: 0px 1px 2px rgba(60, 64, 67, 0.3), 0px 1px 3px 1px rgba(60, 64, 67, 0.15);\n",
              "    fill: #174EA6;\n",
              "  }\n",
              "\n",
              "  [theme=dark] .colab-df-quickchart {\n",
              "    background-color: #3B4455;\n",
              "    fill: #D2E3FC;\n",
              "  }\n",
              "\n",
              "  [theme=dark] .colab-df-quickchart:hover {\n",
              "    background-color: #434B5C;\n",
              "    box-shadow: 0px 1px 3px 1px rgba(0, 0, 0, 0.15);\n",
              "    filter: drop-shadow(0px 1px 2px rgba(0, 0, 0, 0.3));\n",
              "    fill: #FFFFFF;\n",
              "  }\n",
              "</style>\n",
              "\n",
              "    <script>\n",
              "      async function quickchart(key) {\n",
              "        const containerElement = document.querySelector('#' + key);\n",
              "        const charts = await google.colab.kernel.invokeFunction(\n",
              "            'suggestCharts', [key], {});\n",
              "      }\n",
              "    </script>\n",
              "\n",
              "      <script>\n",
              "\n",
              "function displayQuickchartButton(domScope) {\n",
              "  let quickchartButtonEl =\n",
              "    domScope.querySelector('#df-2e817a7f-ce73-4e25-b66c-2bf1726e37cb button.colab-df-quickchart');\n",
              "  quickchartButtonEl.style.display =\n",
              "    google.colab.kernel.accessAllowed ? 'block' : 'none';\n",
              "}\n",
              "\n",
              "        displayQuickchartButton(document);\n",
              "      </script>\n",
              "      <style>\n",
              "    .colab-df-container {\n",
              "      display:flex;\n",
              "      flex-wrap:wrap;\n",
              "      gap: 12px;\n",
              "    }\n",
              "\n",
              "    .colab-df-convert {\n",
              "      background-color: #E8F0FE;\n",
              "      border: none;\n",
              "      border-radius: 50%;\n",
              "      cursor: pointer;\n",
              "      display: none;\n",
              "      fill: #1967D2;\n",
              "      height: 32px;\n",
              "      padding: 0 0 0 0;\n",
              "      width: 32px;\n",
              "    }\n",
              "\n",
              "    .colab-df-convert:hover {\n",
              "      background-color: #E2EBFA;\n",
              "      box-shadow: 0px 1px 2px rgba(60, 64, 67, 0.3), 0px 1px 3px 1px rgba(60, 64, 67, 0.15);\n",
              "      fill: #174EA6;\n",
              "    }\n",
              "\n",
              "    [theme=dark] .colab-df-convert {\n",
              "      background-color: #3B4455;\n",
              "      fill: #D2E3FC;\n",
              "    }\n",
              "\n",
              "    [theme=dark] .colab-df-convert:hover {\n",
              "      background-color: #434B5C;\n",
              "      box-shadow: 0px 1px 3px 1px rgba(0, 0, 0, 0.15);\n",
              "      filter: drop-shadow(0px 1px 2px rgba(0, 0, 0, 0.3));\n",
              "      fill: #FFFFFF;\n",
              "    }\n",
              "  </style>\n",
              "\n",
              "      <script>\n",
              "        const buttonEl =\n",
              "          document.querySelector('#df-ab9f4253-2260-453f-a115-632d82b74a5e button.colab-df-convert');\n",
              "        buttonEl.style.display =\n",
              "          google.colab.kernel.accessAllowed ? 'block' : 'none';\n",
              "\n",
              "        async function convertToInteractive(key) {\n",
              "          const element = document.querySelector('#df-ab9f4253-2260-453f-a115-632d82b74a5e');\n",
              "          const dataTable =\n",
              "            await google.colab.kernel.invokeFunction('convertToInteractive',\n",
              "                                                     [key], {});\n",
              "          if (!dataTable) return;\n",
              "\n",
              "          const docLinkHtml = 'Like what you see? Visit the ' +\n",
              "            '<a target=\"_blank\" href=https://colab.research.google.com/notebooks/data_table.ipynb>data table notebook</a>'\n",
              "            + ' to learn more about interactive tables.';\n",
              "          element.innerHTML = '';\n",
              "          dataTable['output_type'] = 'display_data';\n",
              "          await google.colab.output.renderOutput(dataTable, element);\n",
              "          const docLink = document.createElement('div');\n",
              "          docLink.innerHTML = docLinkHtml;\n",
              "          element.appendChild(docLink);\n",
              "        }\n",
              "      </script>\n",
              "    </div>\n",
              "  </div>\n"
            ]
          },
          "metadata": {},
          "execution_count": 3
        }
      ],
      "source": [
        "train_data"
      ]
    },
    {
      "cell_type": "code",
      "execution_count": null,
      "metadata": {
        "id": "3ii-GbecFTNE"
      },
      "outputs": [],
      "source": [
        "# creating train/val datasets\n",
        "x_train, x_val, y_train, y_val = train_test_split(train_data.text, train_data.label, test_size=0.20, random_state=42)\n",
        "# creating test datasets\n",
        "x_test = test_data.text\n",
        "y_test = test_data.label"
      ]
    },
    {
      "cell_type": "code",
      "execution_count": null,
      "metadata": {
        "colab": {
          "base_uri": "https://localhost:8080/"
        },
        "id": "Xj4LM1OzGTt6",
        "outputId": "614b1f9e-2f09-4e85-e9a4-11870b56ee15"
      },
      "outputs": [
        {
          "output_type": "stream",
          "name": "stdout",
          "text": [
            "x_train shape: (13592,)\n",
            "y_train shape: (13592,)\n",
            "\n",
            "x_val shape: (3398,)\n",
            "y_val shape: (3398,)\n",
            "\n",
            "x_test shape: (4117,)\n",
            "y_test shape: (4117,)\n"
          ]
        }
      ],
      "source": [
        "print(f\"x_train shape: {x_train.shape}\")\n",
        "print(f\"y_train shape: {y_train.shape}\\n\")\n",
        "print(f\"x_val shape: {x_val.shape}\")\n",
        "print(f\"y_val shape: {y_val.shape}\\n\")\n",
        "print(f\"x_test shape: {x_test.shape}\")\n",
        "print(f\"y_test shape: {y_test.shape}\")\n"
      ]
    },
    {
      "cell_type": "markdown",
      "metadata": {
        "id": "KJC9B1XkEe6C"
      },
      "source": [
        "### Gloabl Variables"
      ]
    },
    {
      "cell_type": "code",
      "execution_count": null,
      "metadata": {
        "id": "-SyG9CUZEhLT"
      },
      "outputs": [],
      "source": [
        "# Creating of learning rate schedule\n",
        "num_epochs = 5\n",
        "num_train_steps = len(x_train) * num_epochs\n",
        "lr_scheduler = PolynomialDecay(\n",
        "    initial_learning_rate=5e-5,\n",
        "    end_learning_rate=0.,\n",
        "    decay_steps=num_train_steps\n",
        ")"
      ]
    },
    {
      "cell_type": "code",
      "source": [
        "target_names = [\"Analyst Update\",\"Fed | Central Banks\",\n",
        "        \"Company | Product News\",\"Treasuries | Corporate Debt\",\n",
        "        \"Dividend\",\"Earnings\",\"Energy | Oil\",\n",
        "        \"Financials\",\"Currencies\",\"General News | Opinion\",\n",
        "        \"Gold | Metals | Materials\",\"IPO\",\"Legal | Regulation\",\n",
        "        \"M&A | Investments\",\"Macro\",\"Markets\",\"Politics\",\n",
        "        \"Personnel Change\",\"Stock Commentary\", \"Stock Movement\"]"
      ],
      "metadata": {
        "id": "_EeykVKKNn2j"
      },
      "execution_count": null,
      "outputs": []
    },
    {
      "cell_type": "markdown",
      "metadata": {
        "id": "wQvKWJ4vIi3R"
      },
      "source": [
        "### Utility functions"
      ]
    },
    {
      "cell_type": "code",
      "execution_count": null,
      "metadata": {
        "id": "AXnuPlqoImk7"
      },
      "outputs": [],
      "source": [
        "# Function for creating tokenized data and outputs for models\n",
        "\n",
        "def create_datasets(tokenizer, train=x_train, val=x_val, test=x_test):\n",
        "  # Variables\n",
        "  # train/val/test = datasets to encode\n",
        "  # tokenizer = bert tokenizer\n",
        "\n",
        "  train_encodings = tokenizer(list(train), padding=True, return_tensors='tf')\n",
        "  valid_encodings = tokenizer(list(val), padding=True, return_tensors='tf')\n",
        "  test_encodings = tokenizer(list(test), padding=True, return_tensors='tf')\n",
        "\n",
        "  return train_encodings, valid_encodings, test_encodings\n"
      ]
    },
    {
      "cell_type": "code",
      "execution_count": null,
      "metadata": {
        "id": "sH4KtaKUJ5n3"
      },
      "outputs": [],
      "source": [
        " # Function for creating model\n",
        "def create_bert_multiclass_model(model,\n",
        "                                 num_classes = 20,\n",
        "                                 hidden_size = 201,\n",
        "                                 dropout=0.3,\n",
        "                                 learning_rate=lr_scheduler,\n",
        "                                 activation='softmax'):\n",
        "    \"\"\"\n",
        "    Build a simple classification model with BERT. Use the Pooler Output for classification purposes.\n",
        "    \"\"\"\n",
        "\n",
        "    bert_model = model\n",
        "\n",
        "    # building bert inputs\n",
        "    input_ids = tf.keras.layers.Input(shape=(None,), dtype=tf.int64, name='input_ids_layer')\n",
        "    token_type_ids = tf.keras.layers.Input(shape=(None,), dtype=tf.int64, name='token_type_ids_layer')\n",
        "    attention_mask = tf.keras.layers.Input(shape=(None,), dtype=tf.int64, name='attention_mask_layer')\n",
        "\n",
        "    bert_inputs = {'input_ids': input_ids,\n",
        "                   'token_type_ids': token_type_ids,\n",
        "                   'attention_mask': attention_mask}\n",
        "\n",
        "    # building bert model\n",
        "    bert_out = bert_model(bert_inputs)\n",
        "    pooler_output = bert_out[1] # bert_out.pooler_output\n",
        "\n",
        "    # building hidden layers\n",
        "    last_hidden_output = tf.keras.layers.Dense(hidden_size, activation='relu', name='last_hidden_output')(pooler_output)\n",
        "    last_hidden_output = tf.keras.layers.Dropout(dropout, name='dropout')(last_hidden_output)\n",
        "    bert_cls_prediction = keras.layers.Dense(num_classes, activation=activation, name='cls_output')(last_hidden_output)\n",
        "\n",
        "    # compiling model\n",
        "    bert_cls_model = keras.Model(inputs=[input_ids, token_type_ids, attention_mask], outputs=bert_cls_prediction)\n",
        "    bert_cls_model.compile(optimizer=tf.keras.optimizers.Adam(learning_rate=learning_rate),\n",
        "                           loss=tf.keras.losses.SparseCategoricalCrossentropy(from_logits=False),\n",
        "                           metrics='accuracy')\n",
        "\n",
        "    ### END YOUR CODE\n",
        "    return bert_cls_model"
      ]
    },
    {
      "cell_type": "code",
      "execution_count": null,
      "metadata": {
        "id": "_lgZsDnOQRLW"
      },
      "outputs": [],
      "source": [
        "# Function to show model parameters/shape\n",
        "def depict_model(model):\n",
        "\n",
        "  display(model.summary())\n",
        "  display(keras.utils.plot_model(model, show_shapes=False, show_dtype=False, show_layer_names=True, dpi=90))"
      ]
    },
    {
      "cell_type": "code",
      "source": [
        "#Function to create confusion matrix\n",
        "def plot_confusion_matrix(conf_matrix, target_names, title):\n",
        "    plt.figure(figsize=(8, 6))\n",
        "    sns.heatmap(conf_matrix, annot=True, fmt=\"d\", cmap=\"Blues\", xticklabels=target_names, yticklabels=target_names)\n",
        "    plt.xlabel(\"Predicted Labels\")\n",
        "    plt.ylabel(\"True Labels\")\n",
        "    plt.title(title)\n",
        "    plt.show()"
      ],
      "metadata": {
        "id": "oRuQknamaXSn"
      },
      "execution_count": null,
      "outputs": []
    },
    {
      "cell_type": "code",
      "source": [
        "## FUNCTION FOR GENERATING WRONG ANSWER DATA SET\n",
        "def wrong_answer_eval(y_pred, y_target, test_data=test_data):\n",
        "\n",
        "  y_pred = y_pred.numpy()\n",
        "  wrong_answ = test_data[(y_pred != y_target)]\n",
        "  wrong_answ['predicted_label'] = y_pred[np.where([y_target != y_pred])[1]]\n",
        "\n",
        "  return wrong_answ\n",
        "\n",
        "\n",
        "## FUNCTION FOR SAMPLING DATA\n",
        "\n",
        "def preview_random_sample(df, labels=target_names, sample_num = 10):\n",
        "    # A function to grab a random sample and display the text and associated labels\n",
        "\n",
        "    # VARIABLES\n",
        "    # df = dataframe\n",
        "    # col_name = name of column to display\n",
        "    # sample_num = number of samples to display\n",
        "\n",
        "    # generating random sample\n",
        "    random_sample = df.sample(sample_num)\n",
        "\n",
        "    # looping over sampple an displaying results\n",
        "    for i, data in enumerate(random_sample.iterrows()):\n",
        "        print(f'RECORD {i+1}')\n",
        "        print(f'Text: {data[1].text}')\n",
        "        print(f'True Label: {labels[data[1].label]}')\n",
        "        print(f'Predicted Label: {labels[data[1].predicted_label]}\\n')\n",
        "\n",
        "    return 'SAMPLING COMPLETE'"
      ],
      "metadata": {
        "id": "IaR4GGtiaWu4"
      },
      "execution_count": null,
      "outputs": []
    },
    {
      "cell_type": "code",
      "source": [
        "## FUNCTION TO SEE HOW ACCURATE MODEL PREDICT TOP K LABELS\n",
        "def top_k_pred_acc(top_k_preds, y_test=y_test):\n",
        "\n",
        "  # tracking variables\n",
        "  correct_preds = 0\n",
        "  total_preds = 0\n",
        "\n",
        "  for i,label in enumerate(y_test):\n",
        "    if label in top_k_preds[i-1]:\n",
        "      correct_preds += 1\n",
        "    total_preds +=1\n",
        "\n",
        "  acc = correct_preds/total_preds\n",
        "\n",
        "  return f\"Accuracy: {acc:.4f}\""
      ],
      "metadata": {
        "id": "oS5Isf5Aaf9e"
      },
      "execution_count": null,
      "outputs": []
    },
    {
      "cell_type": "markdown",
      "metadata": {
        "id": "BbeUS22BD8H8"
      },
      "source": [
        "### BERT-base model"
      ]
    },
    {
      "cell_type": "code",
      "execution_count": null,
      "metadata": {
        "colab": {
          "base_uri": "https://localhost:8080/",
          "height": 250,
          "referenced_widgets": [
            "fa1fdc61939e4017962e97c28d6088ab",
            "2a5ce7400cb34f92bc4ae1e26b0e4604",
            "476eddf350804d829c93cb2076bee3dd",
            "c50851c9b134483f90c55e3ad1a7377b",
            "8be353fd4fc440e395267d6a0b79790c",
            "5f90776ea8974e9989f298b422765f4f",
            "8809edab049b4e4d831da4d19c172ec9",
            "5e0cc96c7ab145b2b794de51a8ceb24d",
            "6a57e8ff311e4df5a600f7cd4b510334",
            "65a545f57fd6486f866010cc21bc1a0e",
            "9c40d10aec06440990db5bf99fd7a431",
            "0b9daa0df69d4df5821ffd62513a6068",
            "230ddc29bb144a1a9a71fb61e6f86f0d",
            "d1ec8f3ab5504865bd5fee0a6e39e28a",
            "8d568bd1b0b549409330c5489f5b6e2a",
            "652e7916297b4339842e1b37e215bcd3",
            "324d5993d4ac4850876786300400d828",
            "fc5d1bee88ec48a79a2684c42a01fdd8",
            "9d787a60af814c25a72855fd8d6075a1",
            "1b85690f7d6542d9bd113c3cf53dd973",
            "0a995035eece4292952a4f5b6221cc17",
            "a986345e948243738035a1a7b93fb643",
            "d7ba16053ce94873a54279fd7df57e60",
            "130091d0d44646108a083e5ede7113f9",
            "90b8d843eda143be87e5e87c634b3bf3",
            "dc7df1375f0542579a54acdf797b8b43",
            "8bf06a86e26641cbbb2f6b3643a329c6",
            "2be8331f40a245bc9028671f96cd234e",
            "9496756ed15545689700461c8d02123b",
            "096f1245b5c1407ab7e3eb5398d47700",
            "ab3d2b15716f48a9a883b9de74112d53",
            "5f62e807c1d54027ad5a47034eb92360",
            "9a23d63a5dd7428d9b3f5c501a06a342",
            "1faa370de3a24b529bdd490f627f7e4a",
            "e56b4d665911462286eae7ae3b3091eb",
            "0d8cdf45c1dd404ebe1086dfacccbede",
            "676b9a1aaa174473b17edd361123bdad",
            "e9331de27ce7444cab3b42c630b3bcd1",
            "1dd7b50f1a5b49f38621072789ccff3d",
            "ab4bb051b5eb468ba5310050b6f6afb2",
            "444a8b741e814155944faed00bb47d58",
            "ad44f65e2bbe41028e1eba2c52a09633",
            "f9aad3e4eb204e6f889b29a075860c98",
            "e63fe76f69a24c77a3cb41d46d01ef4e"
          ]
        },
        "id": "Z_-d4jOs2S4c",
        "outputId": "b919ae32-d1eb-4e65-f8e2-898f83816cf5"
      },
      "outputs": [
        {
          "output_type": "display_data",
          "data": {
            "text/plain": [
              "Downloading (…)solve/main/vocab.txt:   0%|          | 0.00/232k [00:00<?, ?B/s]"
            ],
            "application/vnd.jupyter.widget-view+json": {
              "version_major": 2,
              "version_minor": 0,
              "model_id": "fa1fdc61939e4017962e97c28d6088ab"
            }
          },
          "metadata": {}
        },
        {
          "output_type": "display_data",
          "data": {
            "text/plain": [
              "Downloading (…)okenizer_config.json:   0%|          | 0.00/28.0 [00:00<?, ?B/s]"
            ],
            "application/vnd.jupyter.widget-view+json": {
              "version_major": 2,
              "version_minor": 0,
              "model_id": "0b9daa0df69d4df5821ffd62513a6068"
            }
          },
          "metadata": {}
        },
        {
          "output_type": "display_data",
          "data": {
            "text/plain": [
              "Downloading (…)lve/main/config.json:   0%|          | 0.00/570 [00:00<?, ?B/s]"
            ],
            "application/vnd.jupyter.widget-view+json": {
              "version_major": 2,
              "version_minor": 0,
              "model_id": "d7ba16053ce94873a54279fd7df57e60"
            }
          },
          "metadata": {}
        },
        {
          "output_type": "display_data",
          "data": {
            "text/plain": [
              "Downloading model.safetensors:   0%|          | 0.00/440M [00:00<?, ?B/s]"
            ],
            "application/vnd.jupyter.widget-view+json": {
              "version_major": 2,
              "version_minor": 0,
              "model_id": "1faa370de3a24b529bdd490f627f7e4a"
            }
          },
          "metadata": {}
        },
        {
          "output_type": "stream",
          "name": "stderr",
          "text": [
            "Some weights of the PyTorch model were not used when initializing the TF 2.0 model TFBertModel: ['cls.predictions.transform.LayerNorm.weight', 'cls.predictions.bias', 'cls.seq_relationship.weight', 'cls.seq_relationship.bias', 'cls.predictions.transform.LayerNorm.bias', 'cls.predictions.transform.dense.bias', 'cls.predictions.transform.dense.weight']\n",
            "- This IS expected if you are initializing TFBertModel from a PyTorch model trained on another task or with another architecture (e.g. initializing a TFBertForSequenceClassification model from a BertForPreTraining model).\n",
            "- This IS NOT expected if you are initializing TFBertModel from a PyTorch model that you expect to be exactly identical (e.g. initializing a TFBertForSequenceClassification model from a BertForSequenceClassification model).\n",
            "All the weights of TFBertModel were initialized from the PyTorch model.\n",
            "If your task is similar to the task the model of the checkpoint was trained on, you can already use TFBertModel for predictions without further training.\n"
          ]
        }
      ],
      "source": [
        "# Loading bert-base-uncased tokenizer/model\n",
        "bert_tokenizer = BertTokenizer.from_pretrained('bert-base-uncased')\n",
        "bert_model = TFBertModel.from_pretrained(\"bert-base-uncased\")"
      ]
    },
    {
      "cell_type": "code",
      "execution_count": null,
      "metadata": {
        "id": "ET1YIoFELuCE"
      },
      "outputs": [],
      "source": [
        "# Creating base-base-uncased encodings\n",
        "base_train_encodings, base_valid_encodings, base_test_encodings = create_datasets(bert_tokenizer)"
      ]
    },
    {
      "cell_type": "code",
      "execution_count": null,
      "metadata": {
        "id": "cHK9USNKEQhN"
      },
      "outputs": [],
      "source": [
        "# Creating bert-base-uncased model\n",
        "bert_base_Fit = create_bert_multiclass_model(bert_model)"
      ]
    },
    {
      "cell_type": "code",
      "source": [
        "# Running BERT-base-Fit model\n",
        "bertbase_model_history = bert_base_Fit.fit([base_train_encodings.input_ids, base_train_encodings.token_type_ids, base_train_encodings.attention_mask],\n",
        "                                                  y_train,\n",
        "                                                  validation_data=([base_valid_encodings.input_ids, base_valid_encodings.token_type_ids, base_valid_encodings.attention_mask],\n",
        "                                                  y_val),\n",
        "                                                  batch_size=8,\n",
        "                                                  epochs=num_epochs)"
      ],
      "metadata": {
        "colab": {
          "base_uri": "https://localhost:8080/"
        },
        "id": "sG-BIHytQYYZ",
        "outputId": "cd2795a5-7e2e-4249-a0eb-bf326c80e34e"
      },
      "execution_count": null,
      "outputs": [
        {
          "output_type": "stream",
          "name": "stdout",
          "text": [
            "Epoch 1/5\n",
            "1699/1699 [==============================] - 235s 112ms/step - loss: 0.9316 - accuracy: 0.7423 - val_loss: 0.4871 - val_accuracy: 0.8632\n",
            "Epoch 2/5\n",
            "1699/1699 [==============================] - 164s 97ms/step - loss: 0.3832 - accuracy: 0.8936 - val_loss: 0.4185 - val_accuracy: 0.8905\n",
            "Epoch 3/5\n",
            "1699/1699 [==============================] - 163s 96ms/step - loss: 0.2363 - accuracy: 0.9333 - val_loss: 0.4579 - val_accuracy: 0.8905\n",
            "Epoch 4/5\n",
            "1699/1699 [==============================] - 167s 98ms/step - loss: 0.1593 - accuracy: 0.9565 - val_loss: 0.4827 - val_accuracy: 0.8888\n",
            "Epoch 5/5\n",
            "1699/1699 [==============================] - 166s 98ms/step - loss: 0.1292 - accuracy: 0.9656 - val_loss: 0.5458 - val_accuracy: 0.8961\n"
          ]
        }
      ]
    },
    {
      "cell_type": "code",
      "source": [
        "bert_base_fit_results = bert_base_Fit.evaluate([base_test_encodings.input_ids, base_test_encodings.token_type_ids, base_test_encodings.attention_mask],\n",
        "                                         y_test,\n",
        "                                         batch_size=8)\n",
        "\n",
        "print(f\"Model accuracy: {bert_base_fit_results[1]}\\n\"+\n",
        "      f\"Model loss: {bert_base_fit_results[0]}\")"
      ],
      "metadata": {
        "colab": {
          "base_uri": "https://localhost:8080/"
        },
        "id": "9wShP8WgWIf_",
        "outputId": "717e26bc-a958-4ebb-e35f-81404e66c6c3"
      },
      "execution_count": null,
      "outputs": [
        {
          "output_type": "stream",
          "name": "stdout",
          "text": [
            "515/515 [==============================] - 29s 52ms/step - loss: 0.5370 - accuracy: 0.8880\n",
            "Model accuracy: 0.8880252838134766\n",
            "Model loss: 0.5369675755500793\n"
          ]
        }
      ]
    },
    {
      "cell_type": "code",
      "source": [
        "# Computing BERT-base-Fit F1 metric\n",
        "bert_fit_y_pred = bert_base_Fit.predict([base_test_encodings.input_ids, base_test_encodings.token_type_ids, base_test_encodings.attention_mask])\n",
        "pred_bert_fit_model = tf.argmax(bert_fit_y_pred, axis=-1)\n",
        "\n",
        "print(classification_report(y_test, pred_bert_fit_model.numpy(), target_names=target_names, digits=4))\n",
        "\n"
      ],
      "metadata": {
        "colab": {
          "base_uri": "https://localhost:8080/"
        },
        "id": "Jrb0tWlCNFto",
        "outputId": "e8c0beaa-d402-47e9-b4d8-fd05ce57bc9a"
      },
      "execution_count": null,
      "outputs": [
        {
          "output_type": "stream",
          "name": "stdout",
          "text": [
            "129/129 [==============================] - 19s 117ms/step\n",
            "                             precision    recall  f1-score   support\n",
            "\n",
            "             Analyst Update     0.8358    0.7671    0.8000        73\n",
            "        Fed | Central Banks     0.8603    0.9206    0.8894       214\n",
            "     Company | Product News     0.9241    0.9002    0.9120       852\n",
            "Treasuries | Corporate Debt     0.9385    0.7922    0.8592        77\n",
            "                   Dividend     0.9600    0.9897    0.9746        97\n",
            "                   Earnings     0.9620    0.9421    0.9520       242\n",
            "               Energy | Oil     0.9732    0.7466    0.8450       146\n",
            "                 Financials     0.8547    0.9563    0.9027       160\n",
            "                 Currencies     0.8857    0.9688    0.9254        32\n",
            "     General News | Opinion     0.7694    0.8542    0.8096       336\n",
            "  Gold | Metals | Materials     0.8000    0.9231    0.8571        13\n",
            "                        IPO     0.8667    0.9286    0.8966        14\n",
            "         Legal | Regulation     0.8850    0.8403    0.8621       119\n",
            "          M&A | Investments     0.7886    0.8362    0.8117       116\n",
            "                      Macro     0.8352    0.9157    0.8736       415\n",
            "                    Markets     0.9224    0.8560    0.8880       125\n",
            "                   Politics     0.9324    0.8313    0.8790       249\n",
            "           Personnel Change     0.9217    0.9464    0.9339       112\n",
            "           Stock Commentary     0.9051    0.9034    0.9043       528\n",
            "             Stock Movement     0.9101    0.8731    0.8912       197\n",
            "\n",
            "                   accuracy                         0.8880      4117\n",
            "                  macro avg     0.8865    0.8846    0.8834      4117\n",
            "               weighted avg     0.8915    0.8880    0.8882      4117\n",
            "\n"
          ]
        }
      ]
    },
    {
      "cell_type": "code",
      "source": [
        "# Saving model & weights\n",
        "bert_base_Fit.save_weights('/content/drive/MyDrive/Colab Notebooks/checkpoint/BERT-base-Fit-weights.h5')\n",
        "bert_base_Fit.save('/content/drive/MyDrive/Colab Notebooks/checkpoint/BERT-base-Fit-model.keras')\n",
        "bert_model.save_weights('/content/drive/MyDrive/Colab Notebooks/checkpoint/Bert-base-fit-modelWeights.h5')"
      ],
      "metadata": {
        "id": "fIegT7OHOlBe"
      },
      "execution_count": null,
      "outputs": []
    },
    {
      "cell_type": "code",
      "source": [
        "#bertbase Conf matrix\n",
        "bert_conf_matrix = confusion_matrix(y_test, pred_bert_fit_model.numpy())\n",
        "plot_confusion_matrix(bert_conf_matrix, target_names, \"Confusion Matrix - BertBase\")"
      ],
      "metadata": {
        "colab": {
          "base_uri": "https://localhost:8080/",
          "height": 741
        },
        "id": "yZjmEbs3a4hU",
        "outputId": "40863cd5-0176-4d2c-f652-3c1bcbf9e495"
      },
      "execution_count": null,
      "outputs": [
        {
          "output_type": "display_data",
          "data": {
            "text/plain": [
              "<Figure size 800x600 with 2 Axes>"
            ],
            "image/png": "[encoded data removed]"
          },
          "metadata": {}
        }
      ]
    },
    {
      "cell_type": "code",
      "source": [
        "#Looking at wrong answers\n",
        "wa = wrong_answer_eval(pred_bert_fit_model, y_test)\n",
        "preview_random_sample(wa)"
      ],
      "metadata": {
        "colab": {
          "base_uri": "https://localhost:8080/",
          "height": 1000
        },
        "id": "9069Ubw2a9tz",
        "outputId": "6c9c7ecd-9ac7-4cbb-be74-bce462d39f36"
      },
      "execution_count": null,
      "outputs": [
        {
          "output_type": "stream",
          "name": "stdout",
          "text": [
            "RECORD 1\n",
            "Text: Indonesia will push the Group of 20 as this year’s host to include the African Union to ensure the plight and concerns of the continent would be represented in key meetings  \n",
            "True Label: Politics\n",
            "Predicted Label: Macro\n",
            "\n",
            "RECORD 2\n",
            "Text: Options expect earnings-day moves to average +/- 6.1% this quarter, the third highest in the past 12 years  \n",
            "True Label: Earnings\n",
            "Predicted Label: Macro\n",
            "\n",
            "RECORD 3\n",
            "Text: 🇪🇺🇭🇷 Croatia will adopt the euro as of next year!   The country fulfils all convergence criteria, the Council of the European Union agreed today. Croatia is now formally approved to join the euro area on 1 January 2023.  Press release    \n",
            "True Label: Macro\n",
            "Predicted Label: Currencies\n",
            "\n",
            "RECORD 4\n",
            "Text: $PETZ Request for Withdrawal of Registration Statement on Form F-3 .... can get wild in afterhours\n",
            "True Label: Company | Product News\n",
            "Predicted Label: Stock Commentary\n",
            "\n",
            "RECORD 5\n",
            "Text: $BYDDF $BYDDY - Rumors Of Warren Buffett Selling Stake In BYD Create Opportunity.   #markets #investing #stockmarket\n",
            "True Label: Stock Commentary\n",
            "Predicted Label: M&A | Investments\n",
            "\n",
            "RECORD 6\n",
            "Text: $NFLX is down -66.26% in 2022\n",
            "True Label: Stock Commentary\n",
            "Predicted Label: Stock Movement\n",
            "\n",
            "RECORD 7\n",
            "Text: $SYF - Synchrony credit card charge-off rate falls, delinquency rate stable in June  \n",
            "True Label: Macro\n",
            "Predicted Label: Fed | Central Banks\n",
            "\n",
            "RECORD 8\n",
            "Text: Marcelo Claure, ex-COO of SoftBank, has big plans for his next act outside the shadow of Masayoshi Son  \n",
            "True Label: Company | Product News\n",
            "Predicted Label: General News | Opinion\n",
            "\n",
            "RECORD 9\n",
            "Text: South Africa’s minister in charge of embattled state-owned companies gives an impassioned defense of the sale of a majority stake in the national carrier for about $3 — a deal that’s subject to a lawsuit from one of the spurned bidders  \n",
            "True Label: Politics\n",
            "Predicted Label: Legal | Regulation\n",
            "\n",
            "RECORD 10\n",
            "Text: IRAQI GOVERNOR ANNOUNCES DISCOVERY OF NEW OIL WELLS IN ANBAR PROVINCE -STATE NEWS AGENCY\n",
            "True Label: Macro\n",
            "Predicted Label: Energy | Oil\n",
            "\n"
          ]
        },
        {
          "output_type": "stream",
          "name": "stderr",
          "text": [
            "<ipython-input-12-f209e72932a5>:6: SettingWithCopyWarning: \n",
            "A value is trying to be set on a copy of a slice from a DataFrame.\n",
            "Try using .loc[row_indexer,col_indexer] = value instead\n",
            "\n",
            "See the caveats in the documentation: https://pandas.pydata.org/pandas-docs/stable/user_guide/indexing.html#returning-a-view-versus-a-copy\n",
            "  wrong_answ['predicted_label'] = y_pred[np.where([y_target != y_pred])[1]]\n"
          ]
        },
        {
          "output_type": "execute_result",
          "data": {
            "text/plain": [
              "'SAMPLING COMPLETE'"
            ],
            "application/vnd.google.colaboratory.intrinsic+json": {
              "type": "string"
            }
          },
          "metadata": {},
          "execution_count": 23
        }
      ]
    },
    {
      "cell_type": "code",
      "source": [
        "preview_random_sample(wa)"
      ],
      "metadata": {
        "colab": {
          "base_uri": "https://localhost:8080/",
          "height": 905
        },
        "id": "mAZCtaTMmicT",
        "outputId": "c9199398-86c3-41d7-889e-c3c2cca9255a"
      },
      "execution_count": null,
      "outputs": [
        {
          "output_type": "stream",
          "name": "stdout",
          "text": [
            "RECORD 1\n",
            "Text: “We had a tough six weeks and we own that at Delta,” says Delta CEO Ed Bastian. He joined @lebeaucarnews to discuss the company’s Q2 earnings and third quarter outlook.    \n",
            "True Label: Company | Product News\n",
            "Predicted Label: Earnings\n",
            "\n",
            "RECORD 2\n",
            "Text: $DCO - Ducommun: Aerospace Industry's Today Best Near-Term Capital Gain.   #stocks #economy #investing\n",
            "True Label: Stock Commentary\n",
            "Predicted Label: Stock Movement\n",
            "\n",
            "RECORD 3\n",
            "Text: Crypto lender Genesis gave $2.36 billion to Three Arrows Capital\n",
            "True Label: Company | Product News\n",
            "Predicted Label: M&A | Investments\n",
            "\n",
            "RECORD 4\n",
            "Text: $PM - Philip Morris International pushes higher after earnings topper  \n",
            "True Label: Stock Movement\n",
            "Predicted Label: Financials\n",
            "\n",
            "RECORD 5\n",
            "Text: $ALLY - Ally Financial Offers A Sustainable 16-18% ROTCE And Trades Around Tangible Book.   #markets #trading #economy\n",
            "True Label: Company | Product News\n",
            "Predicted Label: Stock Commentary\n",
            "\n",
            "RECORD 6\n",
            "Text: Soybeans weak today but appears a buyer in March 2023 futures $1800 call options for $13.75 at 2000X, odd trade\n",
            "True Label: Macro\n",
            "Predicted Label: Stock Commentary\n",
            "\n",
            "RECORD 7\n",
            "Text: Salem Podcast Network Welcomes Morgan Zegers to Its Line-Up    \n",
            "True Label: Personnel Change\n",
            "Predicted Label: Company | Product News\n",
            "\n",
            "RECORD 8\n",
            "Text: $HI: Hillenbrand Announces Intention to Explore Strategic Alternatives for its Batesville Business  \n",
            "True Label: M&A | Investments\n",
            "Predicted Label: Company | Product News\n",
            "\n",
            "RECORD 9\n",
            "Text: Cyemptive Technologies CEO Rob Pike Named “Cybersecurity CEO of the Year” by CEO Monthly Magazine    \n",
            "True Label: Company | Product News\n",
            "Predicted Label: Personnel Change\n",
            "\n",
            "RECORD 10\n",
            "Text: The case for generous 0% financing deals is getting harder for UK retailers to justify  \n",
            "True Label: General News | Opinion\n",
            "Predicted Label: Macro\n",
            "\n"
          ]
        },
        {
          "output_type": "execute_result",
          "data": {
            "text/plain": [
              "'SAMPLING COMPLETE'"
            ],
            "application/vnd.google.colaboratory.intrinsic+json": {
              "type": "string"
            }
          },
          "metadata": {},
          "execution_count": 41
        }
      ]
    },
    {
      "cell_type": "code",
      "source": [
        "#Review of the top predictions\n",
        "top_3 = tf.math.top_k(bert_fit_y_pred,k=3).indices\n",
        "top_2 = tf.math.top_k(bert_fit_y_pred,k=2).indices"
      ],
      "metadata": {
        "id": "JdoHlb5ZbN6Y"
      },
      "execution_count": null,
      "outputs": []
    },
    {
      "cell_type": "code",
      "source": [
        "print('Accuracy when checking top 3 predictions')\n",
        "top_k_pred_acc(top_3)"
      ],
      "metadata": {
        "colab": {
          "base_uri": "https://localhost:8080/",
          "height": 52
        },
        "id": "ffkl6KKUbUkg",
        "outputId": "1c415007-caf5-4501-ddfe-c928bf868fb6"
      },
      "execution_count": null,
      "outputs": [
        {
          "output_type": "stream",
          "name": "stdout",
          "text": [
            "Accuracy when checking top 3 predictions\n"
          ]
        },
        {
          "output_type": "execute_result",
          "data": {
            "text/plain": [
              "'Accuracy: 0.9689'"
            ],
            "application/vnd.google.colaboratory.intrinsic+json": {
              "type": "string"
            }
          },
          "metadata": {},
          "execution_count": 25
        }
      ]
    },
    {
      "cell_type": "code",
      "source": [
        "print('Accuracy when checking top 2 predictions')\n",
        "top_k_pred_acc(top_2)"
      ],
      "metadata": {
        "colab": {
          "base_uri": "https://localhost:8080/",
          "height": 52
        },
        "id": "wxmyeYs-bVfV",
        "outputId": "04dd0dcf-4a70-4d00-92b6-88ca9b544ac8"
      },
      "execution_count": null,
      "outputs": [
        {
          "output_type": "stream",
          "name": "stdout",
          "text": [
            "Accuracy when checking top 2 predictions\n"
          ]
        },
        {
          "output_type": "execute_result",
          "data": {
            "text/plain": [
              "'Accuracy: 0.9517'"
            ],
            "application/vnd.google.colaboratory.intrinsic+json": {
              "type": "string"
            }
          },
          "metadata": {},
          "execution_count": 26
        }
      ]
    },
    {
      "cell_type": "markdown",
      "source": [
        "### Finbert-pretrained Model\n",
        "Basic pretrained model"
      ],
      "metadata": {
        "id": "DQe7JX_bNnFF"
      }
    },
    {
      "cell_type": "code",
      "source": [
        "# Loading finbert-pretrained\n",
        "finbert_base_model = TFAutoModel.from_pretrained('yiyanghkust/finbert-pretrain', ignore_mismatched_sizes=True, from_pt=True)\n",
        "finbert_base_tokenizer = BertTokenizer.from_pretrained('yiyanghkust/finbert-pretrain')"
      ],
      "metadata": {
        "colab": {
          "base_uri": "https://localhost:8080/",
          "height": 218,
          "referenced_widgets": [
            "38cc47f50481417b95fdd2ce61183432",
            "ee91183376684c54a0e9d5fbb22103b6",
            "ff628db24953493fac712a87b6a25946",
            "82da1b97ad854f78bcdb4d6e3503da29",
            "b4932f2d94064130b9c85d39f5654490",
            "540520cb4bf04a558f681ce337972b27",
            "c64ad13fab214e188f60eb1e22e4bd27",
            "219bbacf3ecb443fa9be15e127a3912d",
            "e0250f54b6af4b0d84901ee399bc09e5",
            "f7dab587c91943b5a30c9fe3409bef04",
            "3cef4670602c4281ae726445354840a7",
            "7f7625ebabf64683950b3da5dcb19223",
            "b779605e22744a7f90a0816dcf1f93e9",
            "027a9c5109ab4039a33e452de04209b5",
            "6cbc90505a0d4fd7a189f21fbbcf95f5",
            "e8ce5aed485a4f8fbe291af95ef59f19",
            "5d67f9091ce74e8bb2b5a3dd2f4d9d25",
            "029a8cd1b4284b178398421dc874f094",
            "f4c85e1660ee43579facba83543dbcc0",
            "0b733190a6c14746afe59f19cfe1ac61",
            "4c4843ea95d44d3aa8c50dfa583cd42a",
            "97628e7e61da42a7a77d67f517618a16",
            "259c4e8858b4491e99fb31b62e0280da",
            "0e18dd243d8640e19a9d6d3ac5abcf86",
            "63e3b34a3027453b834f60760ec8eab7",
            "5bd4dc6a921a4018b3c25e0f96557ef0",
            "a9f2f17b315149c9a101df7593a6d836",
            "5f334ea7ceeb42af9cf5d3bed8ec18c8",
            "4cdaf8a1e14847eca322b3dd1dee3f2e",
            "f6c799608f7b4c798060e9fd271f12e9",
            "c89a73edfd1e478a8e2055e38b19b369",
            "c0a02503176d4ea7a0fa13ed08c5c146",
            "8fb0f5afb19d4cda9ef0fcecd85aeb4f"
          ]
        },
        "id": "Ko-BujPxNulb",
        "outputId": "065475fc-af0c-4b42-e86c-67fdc6721069"
      },
      "execution_count": null,
      "outputs": [
        {
          "output_type": "display_data",
          "data": {
            "text/plain": [
              "Downloading (…)lve/main/config.json:   0%|          | 0.00/359 [00:00<?, ?B/s]"
            ],
            "application/vnd.jupyter.widget-view+json": {
              "version_major": 2,
              "version_minor": 0,
              "model_id": "38cc47f50481417b95fdd2ce61183432"
            }
          },
          "metadata": {}
        },
        {
          "output_type": "display_data",
          "data": {
            "text/plain": [
              "Downloading pytorch_model.bin:   0%|          | 0.00/442M [00:00<?, ?B/s]"
            ],
            "application/vnd.jupyter.widget-view+json": {
              "version_major": 2,
              "version_minor": 0,
              "model_id": "7f7625ebabf64683950b3da5dcb19223"
            }
          },
          "metadata": {}
        },
        {
          "output_type": "stream",
          "name": "stderr",
          "text": [
            "Some weights of the PyTorch model were not used when initializing the TF 2.0 model TFBertModel: ['cls.predictions.transform.LayerNorm.weight', 'cls.predictions.decoder.weight', 'cls.predictions.bias', 'cls.seq_relationship.weight', 'cls.seq_relationship.bias', 'cls.predictions.transform.LayerNorm.bias', 'cls.predictions.transform.dense.bias', 'cls.predictions.transform.dense.weight']\n",
            "- This IS expected if you are initializing TFBertModel from a PyTorch model trained on another task or with another architecture (e.g. initializing a TFBertForSequenceClassification model from a BertForPreTraining model).\n",
            "- This IS NOT expected if you are initializing TFBertModel from a PyTorch model that you expect to be exactly identical (e.g. initializing a TFBertForSequenceClassification model from a BertForSequenceClassification model).\n",
            "All the weights of TFBertModel were initialized from the PyTorch model.\n",
            "If your task is similar to the task the model of the checkpoint was trained on, you can already use TFBertModel for predictions without further training.\n"
          ]
        },
        {
          "output_type": "display_data",
          "data": {
            "text/plain": [
              "Downloading (…)solve/main/vocab.txt:   0%|          | 0.00/226k [00:00<?, ?B/s]"
            ],
            "application/vnd.jupyter.widget-view+json": {
              "version_major": 2,
              "version_minor": 0,
              "model_id": "259c4e8858b4491e99fb31b62e0280da"
            }
          },
          "metadata": {}
        }
      ]
    },
    {
      "cell_type": "code",
      "source": [
        "# Creating base-base-uncased encodings\n",
        "finbert_base_train_encodings, finbert_base_valid_encodings, finbert_base_test_encodings = create_datasets(finbert_base_tokenizer)"
      ],
      "metadata": {
        "id": "y8wInnTqOCpm"
      },
      "execution_count": null,
      "outputs": []
    },
    {
      "cell_type": "code",
      "source": [
        "# Creating FinBert-Fit model\n",
        "finbert_fit_model = create_bert_multiclass_model(finbert_base_model)"
      ],
      "metadata": {
        "id": "uoug0cufOhgS"
      },
      "execution_count": null,
      "outputs": []
    },
    {
      "cell_type": "code",
      "source": [
        "# Running FinBert-Fit model\n",
        "finbert_base_model_history = finbert_fit_model.fit([finbert_base_train_encodings.input_ids, finbert_base_train_encodings.token_type_ids, finbert_base_train_encodings.attention_mask],\n",
        "                                                  y_train,\n",
        "                                                  validation_data=([finbert_base_valid_encodings.input_ids, finbert_base_valid_encodings.token_type_ids, finbert_base_valid_encodings.attention_mask],\n",
        "                                                  y_val),\n",
        "                                                  batch_size=8,\n",
        "                                                  epochs=num_epochs)"
      ],
      "metadata": {
        "colab": {
          "base_uri": "https://localhost:8080/"
        },
        "id": "vtrW5tdCWflc",
        "outputId": "89c44125-c3dd-46a1-9468-624a20466f72"
      },
      "execution_count": null,
      "outputs": [
        {
          "output_type": "stream",
          "name": "stdout",
          "text": [
            "Epoch 1/5\n",
            "1699/1699 [==============================] - 253s 117ms/step - loss: 0.7992 - accuracy: 0.7698 - val_loss: 0.4389 - val_accuracy: 0.8673\n",
            "Epoch 2/5\n",
            "1699/1699 [==============================] - 168s 99ms/step - loss: 0.3235 - accuracy: 0.9047 - val_loss: 0.4863 - val_accuracy: 0.8743\n",
            "Epoch 3/5\n",
            "1699/1699 [==============================] - 167s 98ms/step - loss: 0.2043 - accuracy: 0.9392 - val_loss: 0.5019 - val_accuracy: 0.8852\n",
            "Epoch 4/5\n",
            "1699/1699 [==============================] - 166s 98ms/step - loss: 0.1542 - accuracy: 0.9559 - val_loss: 0.5117 - val_accuracy: 0.8882\n",
            "Epoch 5/5\n",
            "1699/1699 [==============================] - 166s 98ms/step - loss: 0.1235 - accuracy: 0.9665 - val_loss: 0.5649 - val_accuracy: 0.8840\n"
          ]
        }
      ]
    },
    {
      "cell_type": "code",
      "source": [
        "# Testing model with lr\n",
        "finbert_fit_results = finbert_fit_model.evaluate([finbert_base_test_encodings.input_ids, finbert_base_test_encodings.token_type_ids, finbert_base_test_encodings.attention_mask],\n",
        "                                         y_test,\n",
        "                                         batch_size=8)\n",
        "\n",
        "print(f\"Model accuracy: {finbert_fit_results[1]}\\n\"+\n",
        "      f\"Model loss: {finbert_fit_results[0]}\")"
      ],
      "metadata": {
        "colab": {
          "base_uri": "https://localhost:8080/"
        },
        "id": "xyXRLetEctYK",
        "outputId": "04806297-53de-495b-b589-76c92bc0a430"
      },
      "execution_count": null,
      "outputs": [
        {
          "output_type": "stream",
          "name": "stdout",
          "text": [
            "515/515 [==============================] - 28s 49ms/step - loss: 0.5897 - accuracy: 0.8737\n",
            "Model accuracy: 0.8736944198608398\n",
            "Model loss: 0.5897218585014343\n"
          ]
        }
      ]
    },
    {
      "cell_type": "code",
      "source": [
        "# Computing FinBert-Fit F1 metric\n",
        "finbert_fit_y_pred = finbert_fit_model.predict([finbert_base_test_encodings.input_ids, finbert_base_test_encodings.token_type_ids, finbert_base_test_encodings.attention_mask])\n",
        "pred_finbert_fit_model = tf.argmax(finbert_fit_y_pred, axis=-1)\n",
        "\n",
        "print(classification_report(y_test, pred_finbert_fit_model.numpy(), target_names=target_names, digits=4))"
      ],
      "metadata": {
        "colab": {
          "base_uri": "https://localhost:8080/"
        },
        "id": "UpGKp0aiUMKq",
        "outputId": "d4c25e28-5cde-4186-e0d7-1b793bb4dad6"
      },
      "execution_count": null,
      "outputs": [
        {
          "output_type": "stream",
          "name": "stdout",
          "text": [
            "129/129 [==============================] - 16s 105ms/step\n",
            "                             precision    recall  f1-score   support\n",
            "\n",
            "             Analyst Update     0.8382    0.7808    0.8085        73\n",
            "        Fed | Central Banks     0.9300    0.8692    0.8986       214\n",
            "     Company | Product News     0.8457    0.8944    0.8694       852\n",
            "Treasuries | Corporate Debt     0.9104    0.7922    0.8472        77\n",
            "                   Dividend     0.9688    0.9588    0.9637        97\n",
            "                   Earnings     0.9186    0.9793    0.9480       242\n",
            "               Energy | Oil     0.9248    0.8425    0.8817       146\n",
            "                 Financials     0.7550    0.9437    0.8389       160\n",
            "                 Currencies     0.8108    0.9375    0.8696        32\n",
            "     General News | Opinion     0.8080    0.7768    0.7921       336\n",
            "  Gold | Metals | Materials     0.8571    0.9231    0.8889        13\n",
            "                        IPO     0.9286    0.9286    0.9286        14\n",
            "         Legal | Regulation     0.8750    0.8824    0.8787       119\n",
            "          M&A | Investments     0.7797    0.7931    0.7863       116\n",
            "                      Macro     0.9074    0.8265    0.8651       415\n",
            "                    Markets     0.9369    0.8320    0.8814       125\n",
            "                   Politics     0.8764    0.9116    0.8937       249\n",
            "           Personnel Change     0.9245    0.8750    0.8991       112\n",
            "           Stock Commentary     0.9223    0.8769    0.8990       528\n",
            "             Stock Movement     0.8443    0.9086    0.8753       197\n",
            "\n",
            "                   accuracy                         0.8737      4117\n",
            "                  macro avg     0.8781    0.8766    0.8757      4117\n",
            "               weighted avg     0.8763    0.8737    0.8737      4117\n",
            "\n"
          ]
        }
      ]
    },
    {
      "cell_type": "code",
      "source": [
        "# Saving FinBert-Fit model & weights\n",
        "finbert_fit_model.save_weights('/content/drive/MyDrive/Colab Notebooks/checkpoint/FinBert-Fit-weights.h5')\n",
        "finbert_fit_model.save('/content/drive/MyDrive/Colab Notebooks/checkpoint/FinBert-Fit-model.keras')\n",
        "finbert_base_model.save_weights('/content/drive/MyDrive/Colab Notebooks/checkpoint/FinBert-fit-modelWeights.h5')"
      ],
      "metadata": {
        "id": "rjRtnBRNU8WW"
      },
      "execution_count": null,
      "outputs": []
    },
    {
      "cell_type": "code",
      "source": [
        "#FinBert Conf matrix\n",
        "finbert_conf_matrix = confusion_matrix(y_test, pred_finbert_fit_model.numpy())\n",
        "plot_confusion_matrix(finbert_conf_matrix, target_names, \"Confusion Matrix - FinBert\")"
      ],
      "metadata": {
        "colab": {
          "base_uri": "https://localhost:8080/",
          "height": 741
        },
        "id": "oBw0OOVZbZ31",
        "outputId": "48ca5a13-efa2-4c20-abe9-3934aaa0aacd"
      },
      "execution_count": null,
      "outputs": [
        {
          "output_type": "display_data",
          "data": {
            "text/plain": [
              "<Figure size 800x600 with 2 Axes>"
            ],
            "image/png": "[encoded data removed]"
          },
          "metadata": {}
        }
      ]
    },
    {
      "cell_type": "code",
      "source": [
        "wa = wrong_answer_eval(pred_finbert_fit_model, y_test)\n",
        "preview_random_sample(wa)"
      ],
      "metadata": {
        "colab": {
          "base_uri": "https://localhost:8080/",
          "height": 1000
        },
        "id": "5T85u-NkbrMa",
        "outputId": "74270063-7073-4a84-c926-251046227e33"
      },
      "execution_count": null,
      "outputs": [
        {
          "output_type": "stream",
          "name": "stdout",
          "text": [
            "RECORD 1\n",
            "Text: APPLE REACHES $50 MLN SETTLEMENT OVER DEFECTIVE MACBOOK KEYBOARDS - RTRS\n",
            "True Label: Company | Product News\n",
            "Predicted Label: Legal | Regulation\n",
            "\n",
            "RECORD 2\n",
            "Text: BitOoda Expands into Proof of Stake with Hire of Recognized PoS Expert    \n",
            "True Label: Company | Product News\n",
            "Predicted Label: M&A | Investments\n",
            "\n",
            "RECORD 3\n",
            "Text: Michael S. Barr sworn in as Vice Chair for Supervision of the Board of Governors of the Federal Reserve System:    \n",
            "True Label: Fed | Central Banks\n",
            "Predicted Label: Personnel Change\n",
            "\n",
            "RECORD 4\n",
            "Text: Non-fuel costs “came in about 22% higher than June of [2019] largely due to the fact that we are only 82% restored,” @Delta CEO Ed Bastian told Yahoo Finance. Full comments:  \n",
            "True Label: Company | Product News\n",
            "Predicted Label: Macro\n",
            "\n",
            "RECORD 5\n",
            "Text: @network_surrey The market started to price it in last Friday after NFP, although small odds currently. If CPI comes in over 8, and no Fed meeting in August, it could move up.\n",
            "True Label: Macro\n",
            "Predicted Label: Fed | Central Banks\n",
            "\n",
            "RECORD 6\n",
            "Text: Russia will try to annex parts of Ukraine later this year, US National Security Council spokesman John Kirby says  Latest updates:    \n",
            "True Label: General News | Opinion\n",
            "Predicted Label: Politics\n",
            "\n",
            "RECORD 7\n",
            "Text: JPMorgan sees these derivative plays as best way to bet on electric vehicles now  \n",
            "True Label: Analyst Update\n",
            "Predicted Label: Company | Product News\n",
            "\n",
            "RECORD 8\n",
            "Text: The law firm Kirkland &amp; Ellis will lead first-of-its-kind crypto insolvencies  \n",
            "True Label: Legal | Regulation\n",
            "Predicted Label: Company | Product News\n",
            "\n",
            "RECORD 9\n",
            "Text: PUMA Signs Rising 200m Sprint Star Abby Steiner    \n",
            "True Label: Company | Product News\n",
            "Predicted Label: Stock Movement\n",
            "\n",
            "RECORD 10\n",
            "Text: SkyKnight Joins Novata General Partner Advisory Committee to Advance ESG in Private Markets    \n",
            "True Label: Personnel Change\n",
            "Predicted Label: Company | Product News\n",
            "\n"
          ]
        },
        {
          "output_type": "stream",
          "name": "stderr",
          "text": [
            "<ipython-input-12-f209e72932a5>:6: SettingWithCopyWarning: \n",
            "A value is trying to be set on a copy of a slice from a DataFrame.\n",
            "Try using .loc[row_indexer,col_indexer] = value instead\n",
            "\n",
            "See the caveats in the documentation: https://pandas.pydata.org/pandas-docs/stable/user_guide/indexing.html#returning-a-view-versus-a-copy\n",
            "  wrong_answ['predicted_label'] = y_pred[np.where([y_target != y_pred])[1]]\n"
          ]
        },
        {
          "output_type": "execute_result",
          "data": {
            "text/plain": [
              "'SAMPLING COMPLETE'"
            ],
            "application/vnd.google.colaboratory.intrinsic+json": {
              "type": "string"
            }
          },
          "metadata": {},
          "execution_count": 34
        }
      ]
    },
    {
      "cell_type": "code",
      "source": [
        "top_3 = tf.math.top_k(bert_fit_y_pred,k=3).indices\n",
        "top_2 = tf.math.top_k(bert_fit_y_pred,k=2).indices"
      ],
      "metadata": {
        "id": "9Z08vNjAb1C3"
      },
      "execution_count": null,
      "outputs": []
    },
    {
      "cell_type": "code",
      "source": [
        "print('Accuracy when checking top 3 predictions')\n",
        "top_k_pred_acc(top_3)"
      ],
      "metadata": {
        "colab": {
          "base_uri": "https://localhost:8080/",
          "height": 52
        },
        "id": "yFRNSECqb-rX",
        "outputId": "24f9ccd3-ff54-4513-bdf4-bfcd49f26e49"
      },
      "execution_count": null,
      "outputs": [
        {
          "output_type": "stream",
          "name": "stdout",
          "text": [
            "Accuracy when checking top 3 predictions\n"
          ]
        },
        {
          "output_type": "execute_result",
          "data": {
            "text/plain": [
              "'Accuracy: 0.9689'"
            ],
            "application/vnd.google.colaboratory.intrinsic+json": {
              "type": "string"
            }
          },
          "metadata": {},
          "execution_count": 36
        }
      ]
    },
    {
      "cell_type": "code",
      "source": [
        "print('Accuracy when checking top 2 predictions')\n",
        "top_k_pred_acc(top_2)"
      ],
      "metadata": {
        "colab": {
          "base_uri": "https://localhost:8080/",
          "height": 52
        },
        "id": "XjJUYgwwcByB",
        "outputId": "61fe8eb6-4c9a-4c0c-8953-c6ef565c2ff5"
      },
      "execution_count": null,
      "outputs": [
        {
          "output_type": "stream",
          "name": "stdout",
          "text": [
            "Accuracy when checking top 2 predictions\n"
          ]
        },
        {
          "output_type": "execute_result",
          "data": {
            "text/plain": [
              "'Accuracy: 0.9517'"
            ],
            "application/vnd.google.colaboratory.intrinsic+json": {
              "type": "string"
            }
          },
          "metadata": {},
          "execution_count": 37
        }
      ]
    },
    {
      "cell_type": "code",
      "source": [
        "delta_cm = bert_conf_matrix - finbert_conf_matrix\n",
        "plot_confusion_matrix(delta_cm, target_names, \"Delta Confusion Matrix: BertBase - FinBert\")"
      ],
      "metadata": {
        "colab": {
          "base_uri": "https://localhost:8080/",
          "height": 741
        },
        "id": "40RDn9m3nx2d",
        "outputId": "30368975-db07-482a-cf91-a3d5177efbe4"
      },
      "execution_count": null,
      "outputs": [
        {
          "output_type": "display_data",
          "data": {
            "text/plain": [
              "<Figure size 800x600 with 2 Axes>"
            ],
            "image/png": "[encoded data removed]"
          },
          "metadata": {}
        }
      ]
    },
    {
      "cell_type": "code",
      "source": [],
      "metadata": {
        "id": "IrXVyFIhn5Y_"
      },
      "execution_count": null,
      "outputs": []
    }
  ],
  "metadata": {
    "accelerator": "GPU",
    "colab": {
      "provenance": [],
      "gpuType": "V100"
    },
    "kernelspec": {
      "display_name": "Python 3",
      "name": "python3"
    },
    "language_info": {
      "name": "python"
    },
    "widgets": {
      "application/vnd.jupyter.widget-state+json": {
        "fa1fdc61939e4017962e97c28d6088ab": {
          "model_module": "@jupyter-widgets/controls",
          "model_name": "HBoxModel",
          "model_module_version": "1.5.0",
          "state": {
            "_dom_classes": [],
            "_model_module": "@jupyter-widgets/controls",
            "_model_module_version": "1.5.0",
            "_model_name": "HBoxModel",
            "_view_count": null,
            "_view_module": "@jupyter-widgets/controls",
            "_view_module_version": "1.5.0",
            "_view_name": "HBoxView",
            "box_style": "",
            "children": [
              "IPY_MODEL_2a5ce7400cb34f92bc4ae1e26b0e4604",
              "IPY_MODEL_476eddf350804d829c93cb2076bee3dd",
              "IPY_MODEL_c50851c9b134483f90c55e3ad1a7377b"
            ],
            "layout": "IPY_MODEL_8be353fd4fc440e395267d6a0b79790c"
          }
        },
        "2a5ce7400cb34f92bc4ae1e26b0e4604": {
          "model_module": "@jupyter-widgets/controls",
          "model_name": "HTMLModel",
          "model_module_version": "1.5.0",
          "state": {
            "_dom_classes": [],
            "_model_module": "@jupyter-widgets/controls",
            "_model_module_version": "1.5.0",
            "_model_name": "HTMLModel",
            "_view_count": null,
            "_view_module": "@jupyter-widgets/controls",
            "_view_module_version": "1.5.0",
            "_view_name": "HTMLView",
            "description": "",
            "description_tooltip": null,
            "layout": "IPY_MODEL_5f90776ea8974e9989f298b422765f4f",
            "placeholder": "​",
            "style": "IPY_MODEL_8809edab049b4e4d831da4d19c172ec9",
            "value": "Downloading (…)solve/main/vocab.txt: 100%"
          }
        },
        "476eddf350804d829c93cb2076bee3dd": {
          "model_module": "@jupyter-widgets/controls",
          "model_name": "FloatProgressModel",
          "model_module_version": "1.5.0",
          "state": {
            "_dom_classes": [],
            "_model_module": "@jupyter-widgets/controls",
            "_model_module_version": "1.5.0",
            "_model_name": "FloatProgressModel",
            "_view_count": null,
            "_view_module": "@jupyter-widgets/controls",
            "_view_module_version": "1.5.0",
            "_view_name": "ProgressView",
            "bar_style": "success",
            "description": "",
            "description_tooltip": null,
            "layout": "IPY_MODEL_5e0cc96c7ab145b2b794de51a8ceb24d",
            "max": 231508,
            "min": 0,
            "orientation": "horizontal",
            "style": "IPY_MODEL_6a57e8ff311e4df5a600f7cd4b510334",
            "value": 231508
          }
        },
        "c50851c9b134483f90c55e3ad1a7377b": {
          "model_module": "@jupyter-widgets/controls",
          "model_name": "HTMLModel",
          "model_module_version": "1.5.0",
          "state": {
            "_dom_classes": [],
            "_model_module": "@jupyter-widgets/controls",
            "_model_module_version": "1.5.0",
            "_model_name": "HTMLModel",
            "_view_count": null,
            "_view_module": "@jupyter-widgets/controls",
            "_view_module_version": "1.5.0",
            "_view_name": "HTMLView",
            "description": "",
            "description_tooltip": null,
            "layout": "IPY_MODEL_65a545f57fd6486f866010cc21bc1a0e",
            "placeholder": "​",
            "style": "IPY_MODEL_9c40d10aec06440990db5bf99fd7a431",
            "value": " 232k/232k [00:00&lt;00:00, 4.36MB/s]"
          }
        },
        "8be353fd4fc440e395267d6a0b79790c": {
          "model_module": "@jupyter-widgets/base",
          "model_name": "LayoutModel",
          "model_module_version": "1.2.0",
          "state": {
            "_model_module": "@jupyter-widgets/base",
            "_model_module_version": "1.2.0",
            "_model_name": "LayoutModel",
            "_view_count": null,
            "_view_module": "@jupyter-widgets/base",
            "_view_module_version": "1.2.0",
            "_view_name": "LayoutView",
            "align_content": null,
            "align_items": null,
            "align_self": null,
            "border": null,
            "bottom": null,
            "display": null,
            "flex": null,
            "flex_flow": null,
            "grid_area": null,
            "grid_auto_columns": null,
            "grid_auto_flow": null,
            "grid_auto_rows": null,
            "grid_column": null,
            "grid_gap": null,
            "grid_row": null,
            "grid_template_areas": null,
            "grid_template_columns": null,
            "grid_template_rows": null,
            "height": null,
            "justify_content": null,
            "justify_items": null,
            "left": null,
            "margin": null,
            "max_height": null,
            "max_width": null,
            "min_height": null,
            "min_width": null,
            "object_fit": null,
            "object_position": null,
            "order": null,
            "overflow": null,
            "overflow_x": null,
            "overflow_y": null,
            "padding": null,
            "right": null,
            "top": null,
            "visibility": null,
            "width": null
          }
        },
        "5f90776ea8974e9989f298b422765f4f": {
          "model_module": "@jupyter-widgets/base",
          "model_name": "LayoutModel",
          "model_module_version": "1.2.0",
          "state": {
            "_model_module": "@jupyter-widgets/base",
            "_model_module_version": "1.2.0",
            "_model_name": "LayoutModel",
            "_view_count": null,
            "_view_module": "@jupyter-widgets/base",
            "_view_module_version": "1.2.0",
            "_view_name": "LayoutView",
            "align_content": null,
            "align_items": null,
            "align_self": null,
            "border": null,
            "bottom": null,
            "display": null,
            "flex": null,
            "flex_flow": null,
            "grid_area": null,
            "grid_auto_columns": null,
            "grid_auto_flow": null,
            "grid_auto_rows": null,
            "grid_column": null,
            "grid_gap": null,
            "grid_row": null,
            "grid_template_areas": null,
            "grid_template_columns": null,
            "grid_template_rows": null,
            "height": null,
            "justify_content": null,
            "justify_items": null,
            "left": null,
            "margin": null,
            "max_height": null,
            "max_width": null,
            "min_height": null,
            "min_width": null,
            "object_fit": null,
            "object_position": null,
            "order": null,
            "overflow": null,
            "overflow_x": null,
            "overflow_y": null,
            "padding": null,
            "right": null,
            "top": null,
            "visibility": null,
            "width": null
          }
        },
        "8809edab049b4e4d831da4d19c172ec9": {
          "model_module": "@jupyter-widgets/controls",
          "model_name": "DescriptionStyleModel",
          "model_module_version": "1.5.0",
          "state": {
            "_model_module": "@jupyter-widgets/controls",
            "_model_module_version": "1.5.0",
            "_model_name": "DescriptionStyleModel",
            "_view_count": null,
            "_view_module": "@jupyter-widgets/base",
            "_view_module_version": "1.2.0",
            "_view_name": "StyleView",
            "description_width": ""
          }
        },
        "5e0cc96c7ab145b2b794de51a8ceb24d": {
          "model_module": "@jupyter-widgets/base",
          "model_name": "LayoutModel",
          "model_module_version": "1.2.0",
          "state": {
            "_model_module": "@jupyter-widgets/base",
            "_model_module_version": "1.2.0",
            "_model_name": "LayoutModel",
            "_view_count": null,
            "_view_module": "@jupyter-widgets/base",
            "_view_module_version": "1.2.0",
            "_view_name": "LayoutView",
            "align_content": null,
            "align_items": null,
            "align_self": null,
            "border": null,
            "bottom": null,
            "display": null,
            "flex": null,
            "flex_flow": null,
            "grid_area": null,
            "grid_auto_columns": null,
            "grid_auto_flow": null,
            "grid_auto_rows": null,
            "grid_column": null,
            "grid_gap": null,
            "grid_row": null,
            "grid_template_areas": null,
            "grid_template_columns": null,
            "grid_template_rows": null,
            "height": null,
            "justify_content": null,
            "justify_items": null,
            "left": null,
            "margin": null,
            "max_height": null,
            "max_width": null,
            "min_height": null,
            "min_width": null,
            "object_fit": null,
            "object_position": null,
            "order": null,
            "overflow": null,
            "overflow_x": null,
            "overflow_y": null,
            "padding": null,
            "right": null,
            "top": null,
            "visibility": null,
            "width": null
          }
        },
        "6a57e8ff311e4df5a600f7cd4b510334": {
          "model_module": "@jupyter-widgets/controls",
          "model_name": "ProgressStyleModel",
          "model_module_version": "1.5.0",
          "state": {
            "_model_module": "@jupyter-widgets/controls",
            "_model_module_version": "1.5.0",
            "_model_name": "ProgressStyleModel",
            "_view_count": null,
            "_view_module": "@jupyter-widgets/base",
            "_view_module_version": "1.2.0",
            "_view_name": "StyleView",
            "bar_color": null,
            "description_width": ""
          }
        },
        "65a545f57fd6486f866010cc21bc1a0e": {
          "model_module": "@jupyter-widgets/base",
          "model_name": "LayoutModel",
          "model_module_version": "1.2.0",
          "state": {
            "_model_module": "@jupyter-widgets/base",
            "_model_module_version": "1.2.0",
            "_model_name": "LayoutModel",
            "_view_count": null,
            "_view_module": "@jupyter-widgets/base",
            "_view_module_version": "1.2.0",
            "_view_name": "LayoutView",
            "align_content": null,
            "align_items": null,
            "align_self": null,
            "border": null,
            "bottom": null,
            "display": null,
            "flex": null,
            "flex_flow": null,
            "grid_area": null,
            "grid_auto_columns": null,
            "grid_auto_flow": null,
            "grid_auto_rows": null,
            "grid_column": null,
            "grid_gap": null,
            "grid_row": null,
            "grid_template_areas": null,
            "grid_template_columns": null,
            "grid_template_rows": null,
            "height": null,
            "justify_content": null,
            "justify_items": null,
            "left": null,
            "margin": null,
            "max_height": null,
            "max_width": null,
            "min_height": null,
            "min_width": null,
            "object_fit": null,
            "object_position": null,
            "order": null,
            "overflow": null,
            "overflow_x": null,
            "overflow_y": null,
            "padding": null,
            "right": null,
            "top": null,
            "visibility": null,
            "width": null
          }
        },
        "9c40d10aec06440990db5bf99fd7a431": {
          "model_module": "@jupyter-widgets/controls",
          "model_name": "DescriptionStyleModel",
          "model_module_version": "1.5.0",
          "state": {
            "_model_module": "@jupyter-widgets/controls",
            "_model_module_version": "1.5.0",
            "_model_name": "DescriptionStyleModel",
            "_view_count": null,
            "_view_module": "@jupyter-widgets/base",
            "_view_module_version": "1.2.0",
            "_view_name": "StyleView",
            "description_width": ""
          }
        },
        "0b9daa0df69d4df5821ffd62513a6068": {
          "model_module": "@jupyter-widgets/controls",
          "model_name": "HBoxModel",
          "model_module_version": "1.5.0",
          "state": {
            "_dom_classes": [],
            "_model_module": "@jupyter-widgets/controls",
            "_model_module_version": "1.5.0",
            "_model_name": "HBoxModel",
            "_view_count": null,
            "_view_module": "@jupyter-widgets/controls",
            "_view_module_version": "1.5.0",
            "_view_name": "HBoxView",
            "box_style": "",
            "children": [
              "IPY_MODEL_230ddc29bb144a1a9a71fb61e6f86f0d",
              "IPY_MODEL_d1ec8f3ab5504865bd5fee0a6e39e28a",
              "IPY_MODEL_8d568bd1b0b549409330c5489f5b6e2a"
            ],
            "layout": "IPY_MODEL_652e7916297b4339842e1b37e215bcd3"
          }
        },
        "230ddc29bb144a1a9a71fb61e6f86f0d": {
          "model_module": "@jupyter-widgets/controls",
          "model_name": "HTMLModel",
          "model_module_version": "1.5.0",
          "state": {
            "_dom_classes": [],
            "_model_module": "@jupyter-widgets/controls",
            "_model_module_version": "1.5.0",
            "_model_name": "HTMLModel",
            "_view_count": null,
            "_view_module": "@jupyter-widgets/controls",
            "_view_module_version": "1.5.0",
            "_view_name": "HTMLView",
            "description": "",
            "description_tooltip": null,
            "layout": "IPY_MODEL_324d5993d4ac4850876786300400d828",
            "placeholder": "​",
            "style": "IPY_MODEL_fc5d1bee88ec48a79a2684c42a01fdd8",
            "value": "Downloading (…)okenizer_config.json: 100%"
          }
        },
        "d1ec8f3ab5504865bd5fee0a6e39e28a": {
          "model_module": "@jupyter-widgets/controls",
          "model_name": "FloatProgressModel",
          "model_module_version": "1.5.0",
          "state": {
            "_dom_classes": [],
            "_model_module": "@jupyter-widgets/controls",
            "_model_module_version": "1.5.0",
            "_model_name": "FloatProgressModel",
            "_view_count": null,
            "_view_module": "@jupyter-widgets/controls",
            "_view_module_version": "1.5.0",
            "_view_name": "ProgressView",
            "bar_style": "success",
            "description": "",
            "description_tooltip": null,
            "layout": "IPY_MODEL_9d787a60af814c25a72855fd8d6075a1",
            "max": 28,
            "min": 0,
            "orientation": "horizontal",
            "style": "IPY_MODEL_1b85690f7d6542d9bd113c3cf53dd973",
            "value": 28
          }
        },
        "8d568bd1b0b549409330c5489f5b6e2a": {
          "model_module": "@jupyter-widgets/controls",
          "model_name": "HTMLModel",
          "model_module_version": "1.5.0",
          "state": {
            "_dom_classes": [],
            "_model_module": "@jupyter-widgets/controls",
            "_model_module_version": "1.5.0",
            "_model_name": "HTMLModel",
            "_view_count": null,
            "_view_module": "@jupyter-widgets/controls",
            "_view_module_version": "1.5.0",
            "_view_name": "HTMLView",
            "description": "",
            "description_tooltip": null,
            "layout": "IPY_MODEL_0a995035eece4292952a4f5b6221cc17",
            "placeholder": "​",
            "style": "IPY_MODEL_a986345e948243738035a1a7b93fb643",
            "value": " 28.0/28.0 [00:00&lt;00:00, 1.82kB/s]"
          }
        },
        "652e7916297b4339842e1b37e215bcd3": {
          "model_module": "@jupyter-widgets/base",
          "model_name": "LayoutModel",
          "model_module_version": "1.2.0",
          "state": {
            "_model_module": "@jupyter-widgets/base",
            "_model_module_version": "1.2.0",
            "_model_name": "LayoutModel",
            "_view_count": null,
            "_view_module": "@jupyter-widgets/base",
            "_view_module_version": "1.2.0",
            "_view_name": "LayoutView",
            "align_content": null,
            "align_items": null,
            "align_self": null,
            "border": null,
            "bottom": null,
            "display": null,
            "flex": null,
            "flex_flow": null,
            "grid_area": null,
            "grid_auto_columns": null,
            "grid_auto_flow": null,
            "grid_auto_rows": null,
            "grid_column": null,
            "grid_gap": null,
            "grid_row": null,
            "grid_template_areas": null,
            "grid_template_columns": null,
            "grid_template_rows": null,
            "height": null,
            "justify_content": null,
            "justify_items": null,
            "left": null,
            "margin": null,
            "max_height": null,
            "max_width": null,
            "min_height": null,
            "min_width": null,
            "object_fit": null,
            "object_position": null,
            "order": null,
            "overflow": null,
            "overflow_x": null,
            "overflow_y": null,
            "padding": null,
            "right": null,
            "top": null,
            "visibility": null,
            "width": null
          }
        },
        "324d5993d4ac4850876786300400d828": {
          "model_module": "@jupyter-widgets/base",
          "model_name": "LayoutModel",
          "model_module_version": "1.2.0",
          "state": {
            "_model_module": "@jupyter-widgets/base",
            "_model_module_version": "1.2.0",
            "_model_name": "LayoutModel",
            "_view_count": null,
            "_view_module": "@jupyter-widgets/base",
            "_view_module_version": "1.2.0",
            "_view_name": "LayoutView",
            "align_content": null,
            "align_items": null,
            "align_self": null,
            "border": null,
            "bottom": null,
            "display": null,
            "flex": null,
            "flex_flow": null,
            "grid_area": null,
            "grid_auto_columns": null,
            "grid_auto_flow": null,
            "grid_auto_rows": null,
            "grid_column": null,
            "grid_gap": null,
            "grid_row": null,
            "grid_template_areas": null,
            "grid_template_columns": null,
            "grid_template_rows": null,
            "height": null,
            "justify_content": null,
            "justify_items": null,
            "left": null,
            "margin": null,
            "max_height": null,
            "max_width": null,
            "min_height": null,
            "min_width": null,
            "object_fit": null,
            "object_position": null,
            "order": null,
            "overflow": null,
            "overflow_x": null,
            "overflow_y": null,
            "padding": null,
            "right": null,
            "top": null,
            "visibility": null,
            "width": null
          }
        },
        "fc5d1bee88ec48a79a2684c42a01fdd8": {
          "model_module": "@jupyter-widgets/controls",
          "model_name": "DescriptionStyleModel",
          "model_module_version": "1.5.0",
          "state": {
            "_model_module": "@jupyter-widgets/controls",
            "_model_module_version": "1.5.0",
            "_model_name": "DescriptionStyleModel",
            "_view_count": null,
            "_view_module": "@jupyter-widgets/base",
            "_view_module_version": "1.2.0",
            "_view_name": "StyleView",
            "description_width": ""
          }
        },
        "9d787a60af814c25a72855fd8d6075a1": {
          "model_module": "@jupyter-widgets/base",
          "model_name": "LayoutModel",
          "model_module_version": "1.2.0",
          "state": {
            "_model_module": "@jupyter-widgets/base",
            "_model_module_version": "1.2.0",
            "_model_name": "LayoutModel",
            "_view_count": null,
            "_view_module": "@jupyter-widgets/base",
            "_view_module_version": "1.2.0",
            "_view_name": "LayoutView",
            "align_content": null,
            "align_items": null,
            "align_self": null,
            "border": null,
            "bottom": null,
            "display": null,
            "flex": null,
            "flex_flow": null,
            "grid_area": null,
            "grid_auto_columns": null,
            "grid_auto_flow": null,
            "grid_auto_rows": null,
            "grid_column": null,
            "grid_gap": null,
            "grid_row": null,
            "grid_template_areas": null,
            "grid_template_columns": null,
            "grid_template_rows": null,
            "height": null,
            "justify_content": null,
            "justify_items": null,
            "left": null,
            "margin": null,
            "max_height": null,
            "max_width": null,
            "min_height": null,
            "min_width": null,
            "object_fit": null,
            "object_position": null,
            "order": null,
            "overflow": null,
            "overflow_x": null,
            "overflow_y": null,
            "padding": null,
            "right": null,
            "top": null,
            "visibility": null,
            "width": null
          }
        },
        "1b85690f7d6542d9bd113c3cf53dd973": {
          "model_module": "@jupyter-widgets/controls",
          "model_name": "ProgressStyleModel",
          "model_module_version": "1.5.0",
          "state": {
            "_model_module": "@jupyter-widgets/controls",
            "_model_module_version": "1.5.0",
            "_model_name": "ProgressStyleModel",
            "_view_count": null,
            "_view_module": "@jupyter-widgets/base",
            "_view_module_version": "1.2.0",
            "_view_name": "StyleView",
            "bar_color": null,
            "description_width": ""
          }
        },
        "0a995035eece4292952a4f5b6221cc17": {
          "model_module": "@jupyter-widgets/base",
          "model_name": "LayoutModel",
          "model_module_version": "1.2.0",
          "state": {
            "_model_module": "@jupyter-widgets/base",
            "_model_module_version": "1.2.0",
            "_model_name": "LayoutModel",
            "_view_count": null,
            "_view_module": "@jupyter-widgets/base",
            "_view_module_version": "1.2.0",
            "_view_name": "LayoutView",
            "align_content": null,
            "align_items": null,
            "align_self": null,
            "border": null,
            "bottom": null,
            "display": null,
            "flex": null,
            "flex_flow": null,
            "grid_area": null,
            "grid_auto_columns": null,
            "grid_auto_flow": null,
            "grid_auto_rows": null,
            "grid_column": null,
            "grid_gap": null,
            "grid_row": null,
            "grid_template_areas": null,
            "grid_template_columns": null,
            "grid_template_rows": null,
            "height": null,
            "justify_content": null,
            "justify_items": null,
            "left": null,
            "margin": null,
            "max_height": null,
            "max_width": null,
            "min_height": null,
            "min_width": null,
            "object_fit": null,
            "object_position": null,
            "order": null,
            "overflow": null,
            "overflow_x": null,
            "overflow_y": null,
            "padding": null,
            "right": null,
            "top": null,
            "visibility": null,
            "width": null
          }
        },
        "a986345e948243738035a1a7b93fb643": {
          "model_module": "@jupyter-widgets/controls",
          "model_name": "DescriptionStyleModel",
          "model_module_version": "1.5.0",
          "state": {
            "_model_module": "@jupyter-widgets/controls",
            "_model_module_version": "1.5.0",
            "_model_name": "DescriptionStyleModel",
            "_view_count": null,
            "_view_module": "@jupyter-widgets/base",
            "_view_module_version": "1.2.0",
            "_view_name": "StyleView",
            "description_width": ""
          }
        },
        "d7ba16053ce94873a54279fd7df57e60": {
          "model_module": "@jupyter-widgets/controls",
          "model_name": "HBoxModel",
          "model_module_version": "1.5.0",
          "state": {
            "_dom_classes": [],
            "_model_module": "@jupyter-widgets/controls",
            "_model_module_version": "1.5.0",
            "_model_name": "HBoxModel",
            "_view_count": null,
            "_view_module": "@jupyter-widgets/controls",
            "_view_module_version": "1.5.0",
            "_view_name": "HBoxView",
            "box_style": "",
            "children": [
              "IPY_MODEL_130091d0d44646108a083e5ede7113f9",
              "IPY_MODEL_90b8d843eda143be87e5e87c634b3bf3",
              "IPY_MODEL_dc7df1375f0542579a54acdf797b8b43"
            ],
            "layout": "IPY_MODEL_8bf06a86e26641cbbb2f6b3643a329c6"
          }
        },
        "130091d0d44646108a083e5ede7113f9": {
          "model_module": "@jupyter-widgets/controls",
          "model_name": "HTMLModel",
          "model_module_version": "1.5.0",
          "state": {
            "_dom_classes": [],
            "_model_module": "@jupyter-widgets/controls",
            "_model_module_version": "1.5.0",
            "_model_name": "HTMLModel",
            "_view_count": null,
            "_view_module": "@jupyter-widgets/controls",
            "_view_module_version": "1.5.0",
            "_view_name": "HTMLView",
            "description": "",
            "description_tooltip": null,
            "layout": "IPY_MODEL_2be8331f40a245bc9028671f96cd234e",
            "placeholder": "​",
            "style": "IPY_MODEL_9496756ed15545689700461c8d02123b",
            "value": "Downloading (…)lve/main/config.json: 100%"
          }
        },
        "90b8d843eda143be87e5e87c634b3bf3": {
          "model_module": "@jupyter-widgets/controls",
          "model_name": "FloatProgressModel",
          "model_module_version": "1.5.0",
          "state": {
            "_dom_classes": [],
            "_model_module": "@jupyter-widgets/controls",
            "_model_module_version": "1.5.0",
            "_model_name": "FloatProgressModel",
            "_view_count": null,
            "_view_module": "@jupyter-widgets/controls",
            "_view_module_version": "1.5.0",
            "_view_name": "ProgressView",
            "bar_style": "success",
            "description": "",
            "description_tooltip": null,
            "layout": "IPY_MODEL_096f1245b5c1407ab7e3eb5398d47700",
            "max": 570,
            "min": 0,
            "orientation": "horizontal",
            "style": "IPY_MODEL_ab3d2b15716f48a9a883b9de74112d53",
            "value": 570
          }
        },
        "dc7df1375f0542579a54acdf797b8b43": {
          "model_module": "@jupyter-widgets/controls",
          "model_name": "HTMLModel",
          "model_module_version": "1.5.0",
          "state": {
            "_dom_classes": [],
            "_model_module": "@jupyter-widgets/controls",
            "_model_module_version": "1.5.0",
            "_model_name": "HTMLModel",
            "_view_count": null,
            "_view_module": "@jupyter-widgets/controls",
            "_view_module_version": "1.5.0",
            "_view_name": "HTMLView",
            "description": "",
            "description_tooltip": null,
            "layout": "IPY_MODEL_5f62e807c1d54027ad5a47034eb92360",
            "placeholder": "​",
            "style": "IPY_MODEL_9a23d63a5dd7428d9b3f5c501a06a342",
            "value": " 570/570 [00:00&lt;00:00, 39.1kB/s]"
          }
        },
        "8bf06a86e26641cbbb2f6b3643a329c6": {
          "model_module": "@jupyter-widgets/base",
          "model_name": "LayoutModel",
          "model_module_version": "1.2.0",
          "state": {
            "_model_module": "@jupyter-widgets/base",
            "_model_module_version": "1.2.0",
            "_model_name": "LayoutModel",
            "_view_count": null,
            "_view_module": "@jupyter-widgets/base",
            "_view_module_version": "1.2.0",
            "_view_name": "LayoutView",
            "align_content": null,
            "align_items": null,
            "align_self": null,
            "border": null,
            "bottom": null,
            "display": null,
            "flex": null,
            "flex_flow": null,
            "grid_area": null,
            "grid_auto_columns": null,
            "grid_auto_flow": null,
            "grid_auto_rows": null,
            "grid_column": null,
            "grid_gap": null,
            "grid_row": null,
            "grid_template_areas": null,
            "grid_template_columns": null,
            "grid_template_rows": null,
            "height": null,
            "justify_content": null,
            "justify_items": null,
            "left": null,
            "margin": null,
            "max_height": null,
            "max_width": null,
            "min_height": null,
            "min_width": null,
            "object_fit": null,
            "object_position": null,
            "order": null,
            "overflow": null,
            "overflow_x": null,
            "overflow_y": null,
            "padding": null,
            "right": null,
            "top": null,
            "visibility": null,
            "width": null
          }
        },
        "2be8331f40a245bc9028671f96cd234e": {
          "model_module": "@jupyter-widgets/base",
          "model_name": "LayoutModel",
          "model_module_version": "1.2.0",
          "state": {
            "_model_module": "@jupyter-widgets/base",
            "_model_module_version": "1.2.0",
            "_model_name": "LayoutModel",
            "_view_count": null,
            "_view_module": "@jupyter-widgets/base",
            "_view_module_version": "1.2.0",
            "_view_name": "LayoutView",
            "align_content": null,
            "align_items": null,
            "align_self": null,
            "border": null,
            "bottom": null,
            "display": null,
            "flex": null,
            "flex_flow": null,
            "grid_area": null,
            "grid_auto_columns": null,
            "grid_auto_flow": null,
            "grid_auto_rows": null,
            "grid_column": null,
            "grid_gap": null,
            "grid_row": null,
            "grid_template_areas": null,
            "grid_template_columns": null,
            "grid_template_rows": null,
            "height": null,
            "justify_content": null,
            "justify_items": null,
            "left": null,
            "margin": null,
            "max_height": null,
            "max_width": null,
            "min_height": null,
            "min_width": null,
            "object_fit": null,
            "object_position": null,
            "order": null,
            "overflow": null,
            "overflow_x": null,
            "overflow_y": null,
            "padding": null,
            "right": null,
            "top": null,
            "visibility": null,
            "width": null
          }
        },
        "9496756ed15545689700461c8d02123b": {
          "model_module": "@jupyter-widgets/controls",
          "model_name": "DescriptionStyleModel",
          "model_module_version": "1.5.0",
          "state": {
            "_model_module": "@jupyter-widgets/controls",
            "_model_module_version": "1.5.0",
            "_model_name": "DescriptionStyleModel",
            "_view_count": null,
            "_view_module": "@jupyter-widgets/base",
            "_view_module_version": "1.2.0",
            "_view_name": "StyleView",
            "description_width": ""
          }
        },
        "096f1245b5c1407ab7e3eb5398d47700": {
          "model_module": "@jupyter-widgets/base",
          "model_name": "LayoutModel",
          "model_module_version": "1.2.0",
          "state": {
            "_model_module": "@jupyter-widgets/base",
            "_model_module_version": "1.2.0",
            "_model_name": "LayoutModel",
            "_view_count": null,
            "_view_module": "@jupyter-widgets/base",
            "_view_module_version": "1.2.0",
            "_view_name": "LayoutView",
            "align_content": null,
            "align_items": null,
            "align_self": null,
            "border": null,
            "bottom": null,
            "display": null,
            "flex": null,
            "flex_flow": null,
            "grid_area": null,
            "grid_auto_columns": null,
            "grid_auto_flow": null,
            "grid_auto_rows": null,
            "grid_column": null,
            "grid_gap": null,
            "grid_row": null,
            "grid_template_areas": null,
            "grid_template_columns": null,
            "grid_template_rows": null,
            "height": null,
            "justify_content": null,
            "justify_items": null,
            "left": null,
            "margin": null,
            "max_height": null,
            "max_width": null,
            "min_height": null,
            "min_width": null,
            "object_fit": null,
            "object_position": null,
            "order": null,
            "overflow": null,
            "overflow_x": null,
            "overflow_y": null,
            "padding": null,
            "right": null,
            "top": null,
            "visibility": null,
            "width": null
          }
        },
        "ab3d2b15716f48a9a883b9de74112d53": {
          "model_module": "@jupyter-widgets/controls",
          "model_name": "ProgressStyleModel",
          "model_module_version": "1.5.0",
          "state": {
            "_model_module": "@jupyter-widgets/controls",
            "_model_module_version": "1.5.0",
            "_model_name": "ProgressStyleModel",
            "_view_count": null,
            "_view_module": "@jupyter-widgets/base",
            "_view_module_version": "1.2.0",
            "_view_name": "StyleView",
            "bar_color": null,
            "description_width": ""
          }
        },
        "5f62e807c1d54027ad5a47034eb92360": {
          "model_module": "@jupyter-widgets/base",
          "model_name": "LayoutModel",
          "model_module_version": "1.2.0",
          "state": {
            "_model_module": "@jupyter-widgets/base",
            "_model_module_version": "1.2.0",
            "_model_name": "LayoutModel",
            "_view_count": null,
            "_view_module": "@jupyter-widgets/base",
            "_view_module_version": "1.2.0",
            "_view_name": "LayoutView",
            "align_content": null,
            "align_items": null,
            "align_self": null,
            "border": null,
            "bottom": null,
            "display": null,
            "flex": null,
            "flex_flow": null,
            "grid_area": null,
            "grid_auto_columns": null,
            "grid_auto_flow": null,
            "grid_auto_rows": null,
            "grid_column": null,
            "grid_gap": null,
            "grid_row": null,
            "grid_template_areas": null,
            "grid_template_columns": null,
            "grid_template_rows": null,
            "height": null,
            "justify_content": null,
            "justify_items": null,
            "left": null,
            "margin": null,
            "max_height": null,
            "max_width": null,
            "min_height": null,
            "min_width": null,
            "object_fit": null,
            "object_position": null,
            "order": null,
            "overflow": null,
            "overflow_x": null,
            "overflow_y": null,
            "padding": null,
            "right": null,
            "top": null,
            "visibility": null,
            "width": null
          }
        },
        "9a23d63a5dd7428d9b3f5c501a06a342": {
          "model_module": "@jupyter-widgets/controls",
          "model_name": "DescriptionStyleModel",
          "model_module_version": "1.5.0",
          "state": {
            "_model_module": "@jupyter-widgets/controls",
            "_model_module_version": "1.5.0",
            "_model_name": "DescriptionStyleModel",
            "_view_count": null,
            "_view_module": "@jupyter-widgets/base",
            "_view_module_version": "1.2.0",
            "_view_name": "StyleView",
            "description_width": ""
          }
        },
        "1faa370de3a24b529bdd490f627f7e4a": {
          "model_module": "@jupyter-widgets/controls",
          "model_name": "HBoxModel",
          "model_module_version": "1.5.0",
          "state": {
            "_dom_classes": [],
            "_model_module": "@jupyter-widgets/controls",
            "_model_module_version": "1.5.0",
            "_model_name": "HBoxModel",
            "_view_count": null,
            "_view_module": "@jupyter-widgets/controls",
            "_view_module_version": "1.5.0",
            "_view_name": "HBoxView",
            "box_style": "",
            "children": [
              "IPY_MODEL_e56b4d665911462286eae7ae3b3091eb",
              "IPY_MODEL_0d8cdf45c1dd404ebe1086dfacccbede",
              "IPY_MODEL_676b9a1aaa174473b17edd361123bdad"
            ],
            "layout": "IPY_MODEL_e9331de27ce7444cab3b42c630b3bcd1"
          }
        },
        "e56b4d665911462286eae7ae3b3091eb": {
          "model_module": "@jupyter-widgets/controls",
          "model_name": "HTMLModel",
          "model_module_version": "1.5.0",
          "state": {
            "_dom_classes": [],
            "_model_module": "@jupyter-widgets/controls",
            "_model_module_version": "1.5.0",
            "_model_name": "HTMLModel",
            "_view_count": null,
            "_view_module": "@jupyter-widgets/controls",
            "_view_module_version": "1.5.0",
            "_view_name": "HTMLView",
            "description": "",
            "description_tooltip": null,
            "layout": "IPY_MODEL_1dd7b50f1a5b49f38621072789ccff3d",
            "placeholder": "​",
            "style": "IPY_MODEL_ab4bb051b5eb468ba5310050b6f6afb2",
            "value": "Downloading model.safetensors: 100%"
          }
        },
        "0d8cdf45c1dd404ebe1086dfacccbede": {
          "model_module": "@jupyter-widgets/controls",
          "model_name": "FloatProgressModel",
          "model_module_version": "1.5.0",
          "state": {
            "_dom_classes": [],
            "_model_module": "@jupyter-widgets/controls",
            "_model_module_version": "1.5.0",
            "_model_name": "FloatProgressModel",
            "_view_count": null,
            "_view_module": "@jupyter-widgets/controls",
            "_view_module_version": "1.5.0",
            "_view_name": "ProgressView",
            "bar_style": "success",
            "description": "",
            "description_tooltip": null,
            "layout": "IPY_MODEL_444a8b741e814155944faed00bb47d58",
            "max": 440449768,
            "min": 0,
            "orientation": "horizontal",
            "style": "IPY_MODEL_ad44f65e2bbe41028e1eba2c52a09633",
            "value": 440449768
          }
        },
        "676b9a1aaa174473b17edd361123bdad": {
          "model_module": "@jupyter-widgets/controls",
          "model_name": "HTMLModel",
          "model_module_version": "1.5.0",
          "state": {
            "_dom_classes": [],
            "_model_module": "@jupyter-widgets/controls",
            "_model_module_version": "1.5.0",
            "_model_name": "HTMLModel",
            "_view_count": null,
            "_view_module": "@jupyter-widgets/controls",
            "_view_module_version": "1.5.0",
            "_view_name": "HTMLView",
            "description": "",
            "description_tooltip": null,
            "layout": "IPY_MODEL_f9aad3e4eb204e6f889b29a075860c98",
            "placeholder": "​",
            "style": "IPY_MODEL_e63fe76f69a24c77a3cb41d46d01ef4e",
            "value": " 440M/440M [00:06&lt;00:00, 28.4MB/s]"
          }
        },
        "e9331de27ce7444cab3b42c630b3bcd1": {
          "model_module": "@jupyter-widgets/base",
          "model_name": "LayoutModel",
          "model_module_version": "1.2.0",
          "state": {
            "_model_module": "@jupyter-widgets/base",
            "_model_module_version": "1.2.0",
            "_model_name": "LayoutModel",
            "_view_count": null,
            "_view_module": "@jupyter-widgets/base",
            "_view_module_version": "1.2.0",
            "_view_name": "LayoutView",
            "align_content": null,
            "align_items": null,
            "align_self": null,
            "border": null,
            "bottom": null,
            "display": null,
            "flex": null,
            "flex_flow": null,
            "grid_area": null,
            "grid_auto_columns": null,
            "grid_auto_flow": null,
            "grid_auto_rows": null,
            "grid_column": null,
            "grid_gap": null,
            "grid_row": null,
            "grid_template_areas": null,
            "grid_template_columns": null,
            "grid_template_rows": null,
            "height": null,
            "justify_content": null,
            "justify_items": null,
            "left": null,
            "margin": null,
            "max_height": null,
            "max_width": null,
            "min_height": null,
            "min_width": null,
            "object_fit": null,
            "object_position": null,
            "order": null,
            "overflow": null,
            "overflow_x": null,
            "overflow_y": null,
            "padding": null,
            "right": null,
            "top": null,
            "visibility": null,
            "width": null
          }
        },
        "1dd7b50f1a5b49f38621072789ccff3d": {
          "model_module": "@jupyter-widgets/base",
          "model_name": "LayoutModel",
          "model_module_version": "1.2.0",
          "state": {
            "_model_module": "@jupyter-widgets/base",
            "_model_module_version": "1.2.0",
            "_model_name": "LayoutModel",
            "_view_count": null,
            "_view_module": "@jupyter-widgets/base",
            "_view_module_version": "1.2.0",
            "_view_name": "LayoutView",
            "align_content": null,
            "align_items": null,
            "align_self": null,
            "border": null,
            "bottom": null,
            "display": null,
            "flex": null,
            "flex_flow": null,
            "grid_area": null,
            "grid_auto_columns": null,
            "grid_auto_flow": null,
            "grid_auto_rows": null,
            "grid_column": null,
            "grid_gap": null,
            "grid_row": null,
            "grid_template_areas": null,
            "grid_template_columns": null,
            "grid_template_rows": null,
            "height": null,
            "justify_content": null,
            "justify_items": null,
            "left": null,
            "margin": null,
            "max_height": null,
            "max_width": null,
            "min_height": null,
            "min_width": null,
            "object_fit": null,
            "object_position": null,
            "order": null,
            "overflow": null,
            "overflow_x": null,
            "overflow_y": null,
            "padding": null,
            "right": null,
            "top": null,
            "visibility": null,
            "width": null
          }
        },
        "ab4bb051b5eb468ba5310050b6f6afb2": {
          "model_module": "@jupyter-widgets/controls",
          "model_name": "DescriptionStyleModel",
          "model_module_version": "1.5.0",
          "state": {
            "_model_module": "@jupyter-widgets/controls",
            "_model_module_version": "1.5.0",
            "_model_name": "DescriptionStyleModel",
            "_view_count": null,
            "_view_module": "@jupyter-widgets/base",
            "_view_module_version": "1.2.0",
            "_view_name": "StyleView",
            "description_width": ""
          }
        },
        "444a8b741e814155944faed00bb47d58": {
          "model_module": "@jupyter-widgets/base",
          "model_name": "LayoutModel",
          "model_module_version": "1.2.0",
          "state": {
            "_model_module": "@jupyter-widgets/base",
            "_model_module_version": "1.2.0",
            "_model_name": "LayoutModel",
            "_view_count": null,
            "_view_module": "@jupyter-widgets/base",
            "_view_module_version": "1.2.0",
            "_view_name": "LayoutView",
            "align_content": null,
            "align_items": null,
            "align_self": null,
            "border": null,
            "bottom": null,
            "display": null,
            "flex": null,
            "flex_flow": null,
            "grid_area": null,
            "grid_auto_columns": null,
            "grid_auto_flow": null,
            "grid_auto_rows": null,
            "grid_column": null,
            "grid_gap": null,
            "grid_row": null,
            "grid_template_areas": null,
            "grid_template_columns": null,
            "grid_template_rows": null,
            "height": null,
            "justify_content": null,
            "justify_items": null,
            "left": null,
            "margin": null,
            "max_height": null,
            "max_width": null,
            "min_height": null,
            "min_width": null,
            "object_fit": null,
            "object_position": null,
            "order": null,
            "overflow": null,
            "overflow_x": null,
            "overflow_y": null,
            "padding": null,
            "right": null,
            "top": null,
            "visibility": null,
            "width": null
          }
        },
        "ad44f65e2bbe41028e1eba2c52a09633": {
          "model_module": "@jupyter-widgets/controls",
          "model_name": "ProgressStyleModel",
          "model_module_version": "1.5.0",
          "state": {
            "_model_module": "@jupyter-widgets/controls",
            "_model_module_version": "1.5.0",
            "_model_name": "ProgressStyleModel",
            "_view_count": null,
            "_view_module": "@jupyter-widgets/base",
            "_view_module_version": "1.2.0",
            "_view_name": "StyleView",
            "bar_color": null,
            "description_width": ""
          }
        },
        "f9aad3e4eb204e6f889b29a075860c98": {
          "model_module": "@jupyter-widgets/base",
          "model_name": "LayoutModel",
          "model_module_version": "1.2.0",
          "state": {
            "_model_module": "@jupyter-widgets/base",
            "_model_module_version": "1.2.0",
            "_model_name": "LayoutModel",
            "_view_count": null,
            "_view_module": "@jupyter-widgets/base",
            "_view_module_version": "1.2.0",
            "_view_name": "LayoutView",
            "align_content": null,
            "align_items": null,
            "align_self": null,
            "border": null,
            "bottom": null,
            "display": null,
            "flex": null,
            "flex_flow": null,
            "grid_area": null,
            "grid_auto_columns": null,
            "grid_auto_flow": null,
            "grid_auto_rows": null,
            "grid_column": null,
            "grid_gap": null,
            "grid_row": null,
            "grid_template_areas": null,
            "grid_template_columns": null,
            "grid_template_rows": null,
            "height": null,
            "justify_content": null,
            "justify_items": null,
            "left": null,
            "margin": null,
            "max_height": null,
            "max_width": null,
            "min_height": null,
            "min_width": null,
            "object_fit": null,
            "object_position": null,
            "order": null,
            "overflow": null,
            "overflow_x": null,
            "overflow_y": null,
            "padding": null,
            "right": null,
            "top": null,
            "visibility": null,
            "width": null
          }
        },
        "e63fe76f69a24c77a3cb41d46d01ef4e": {
          "model_module": "@jupyter-widgets/controls",
          "model_name": "DescriptionStyleModel",
          "model_module_version": "1.5.0",
          "state": {
            "_model_module": "@jupyter-widgets/controls",
            "_model_module_version": "1.5.0",
            "_model_name": "DescriptionStyleModel",
            "_view_count": null,
            "_view_module": "@jupyter-widgets/base",
            "_view_module_version": "1.2.0",
            "_view_name": "StyleView",
            "description_width": ""
          }
        },
        "38cc47f50481417b95fdd2ce61183432": {
          "model_module": "@jupyter-widgets/controls",
          "model_name": "HBoxModel",
          "model_module_version": "1.5.0",
          "state": {
            "_dom_classes": [],
            "_model_module": "@jupyter-widgets/controls",
            "_model_module_version": "1.5.0",
            "_model_name": "HBoxModel",
            "_view_count": null,
            "_view_module": "@jupyter-widgets/controls",
            "_view_module_version": "1.5.0",
            "_view_name": "HBoxView",
            "box_style": "",
            "children": [
              "IPY_MODEL_ee91183376684c54a0e9d5fbb22103b6",
              "IPY_MODEL_ff628db24953493fac712a87b6a25946",
              "IPY_MODEL_82da1b97ad854f78bcdb4d6e3503da29"
            ],
            "layout": "IPY_MODEL_b4932f2d94064130b9c85d39f5654490"
          }
        },
        "ee91183376684c54a0e9d5fbb22103b6": {
          "model_module": "@jupyter-widgets/controls",
          "model_name": "HTMLModel",
          "model_module_version": "1.5.0",
          "state": {
            "_dom_classes": [],
            "_model_module": "@jupyter-widgets/controls",
            "_model_module_version": "1.5.0",
            "_model_name": "HTMLModel",
            "_view_count": null,
            "_view_module": "@jupyter-widgets/controls",
            "_view_module_version": "1.5.0",
            "_view_name": "HTMLView",
            "description": "",
            "description_tooltip": null,
            "layout": "IPY_MODEL_540520cb4bf04a558f681ce337972b27",
            "placeholder": "​",
            "style": "IPY_MODEL_c64ad13fab214e188f60eb1e22e4bd27",
            "value": "Downloading (…)lve/main/config.json: 100%"
          }
        },
        "ff628db24953493fac712a87b6a25946": {
          "model_module": "@jupyter-widgets/controls",
          "model_name": "FloatProgressModel",
          "model_module_version": "1.5.0",
          "state": {
            "_dom_classes": [],
            "_model_module": "@jupyter-widgets/controls",
            "_model_module_version": "1.5.0",
            "_model_name": "FloatProgressModel",
            "_view_count": null,
            "_view_module": "@jupyter-widgets/controls",
            "_view_module_version": "1.5.0",
            "_view_name": "ProgressView",
            "bar_style": "success",
            "description": "",
            "description_tooltip": null,
            "layout": "IPY_MODEL_219bbacf3ecb443fa9be15e127a3912d",
            "max": 359,
            "min": 0,
            "orientation": "horizontal",
            "style": "IPY_MODEL_e0250f54b6af4b0d84901ee399bc09e5",
            "value": 359
          }
        },
        "82da1b97ad854f78bcdb4d6e3503da29": {
          "model_module": "@jupyter-widgets/controls",
          "model_name": "HTMLModel",
          "model_module_version": "1.5.0",
          "state": {
            "_dom_classes": [],
            "_model_module": "@jupyter-widgets/controls",
            "_model_module_version": "1.5.0",
            "_model_name": "HTMLModel",
            "_view_count": null,
            "_view_module": "@jupyter-widgets/controls",
            "_view_module_version": "1.5.0",
            "_view_name": "HTMLView",
            "description": "",
            "description_tooltip": null,
            "layout": "IPY_MODEL_f7dab587c91943b5a30c9fe3409bef04",
            "placeholder": "​",
            "style": "IPY_MODEL_3cef4670602c4281ae726445354840a7",
            "value": " 359/359 [00:00&lt;00:00, 19.1kB/s]"
          }
        },
        "b4932f2d94064130b9c85d39f5654490": {
          "model_module": "@jupyter-widgets/base",
          "model_name": "LayoutModel",
          "model_module_version": "1.2.0",
          "state": {
            "_model_module": "@jupyter-widgets/base",
            "_model_module_version": "1.2.0",
            "_model_name": "LayoutModel",
            "_view_count": null,
            "_view_module": "@jupyter-widgets/base",
            "_view_module_version": "1.2.0",
            "_view_name": "LayoutView",
            "align_content": null,
            "align_items": null,
            "align_self": null,
            "border": null,
            "bottom": null,
            "display": null,
            "flex": null,
            "flex_flow": null,
            "grid_area": null,
            "grid_auto_columns": null,
            "grid_auto_flow": null,
            "grid_auto_rows": null,
            "grid_column": null,
            "grid_gap": null,
            "grid_row": null,
            "grid_template_areas": null,
            "grid_template_columns": null,
            "grid_template_rows": null,
            "height": null,
            "justify_content": null,
            "justify_items": null,
            "left": null,
            "margin": null,
            "max_height": null,
            "max_width": null,
            "min_height": null,
            "min_width": null,
            "object_fit": null,
            "object_position": null,
            "order": null,
            "overflow": null,
            "overflow_x": null,
            "overflow_y": null,
            "padding": null,
            "right": null,
            "top": null,
            "visibility": null,
            "width": null
          }
        },
        "540520cb4bf04a558f681ce337972b27": {
          "model_module": "@jupyter-widgets/base",
          "model_name": "LayoutModel",
          "model_module_version": "1.2.0",
          "state": {
            "_model_module": "@jupyter-widgets/base",
            "_model_module_version": "1.2.0",
            "_model_name": "LayoutModel",
            "_view_count": null,
            "_view_module": "@jupyter-widgets/base",
            "_view_module_version": "1.2.0",
            "_view_name": "LayoutView",
            "align_content": null,
            "align_items": null,
            "align_self": null,
            "border": null,
            "bottom": null,
            "display": null,
            "flex": null,
            "flex_flow": null,
            "grid_area": null,
            "grid_auto_columns": null,
            "grid_auto_flow": null,
            "grid_auto_rows": null,
            "grid_column": null,
            "grid_gap": null,
            "grid_row": null,
            "grid_template_areas": null,
            "grid_template_columns": null,
            "grid_template_rows": null,
            "height": null,
            "justify_content": null,
            "justify_items": null,
            "left": null,
            "margin": null,
            "max_height": null,
            "max_width": null,
            "min_height": null,
            "min_width": null,
            "object_fit": null,
            "object_position": null,
            "order": null,
            "overflow": null,
            "overflow_x": null,
            "overflow_y": null,
            "padding": null,
            "right": null,
            "top": null,
            "visibility": null,
            "width": null
          }
        },
        "c64ad13fab214e188f60eb1e22e4bd27": {
          "model_module": "@jupyter-widgets/controls",
          "model_name": "DescriptionStyleModel",
          "model_module_version": "1.5.0",
          "state": {
            "_model_module": "@jupyter-widgets/controls",
            "_model_module_version": "1.5.0",
            "_model_name": "DescriptionStyleModel",
            "_view_count": null,
            "_view_module": "@jupyter-widgets/base",
            "_view_module_version": "1.2.0",
            "_view_name": "StyleView",
            "description_width": ""
          }
        },
        "219bbacf3ecb443fa9be15e127a3912d": {
          "model_module": "@jupyter-widgets/base",
          "model_name": "LayoutModel",
          "model_module_version": "1.2.0",
          "state": {
            "_model_module": "@jupyter-widgets/base",
            "_model_module_version": "1.2.0",
            "_model_name": "LayoutModel",
            "_view_count": null,
            "_view_module": "@jupyter-widgets/base",
            "_view_module_version": "1.2.0",
            "_view_name": "LayoutView",
            "align_content": null,
            "align_items": null,
            "align_self": null,
            "border": null,
            "bottom": null,
            "display": null,
            "flex": null,
            "flex_flow": null,
            "grid_area": null,
            "grid_auto_columns": null,
            "grid_auto_flow": null,
            "grid_auto_rows": null,
            "grid_column": null,
            "grid_gap": null,
            "grid_row": null,
            "grid_template_areas": null,
            "grid_template_columns": null,
            "grid_template_rows": null,
            "height": null,
            "justify_content": null,
            "justify_items": null,
            "left": null,
            "margin": null,
            "max_height": null,
            "max_width": null,
            "min_height": null,
            "min_width": null,
            "object_fit": null,
            "object_position": null,
            "order": null,
            "overflow": null,
            "overflow_x": null,
            "overflow_y": null,
            "padding": null,
            "right": null,
            "top": null,
            "visibility": null,
            "width": null
          }
        },
        "e0250f54b6af4b0d84901ee399bc09e5": {
          "model_module": "@jupyter-widgets/controls",
          "model_name": "ProgressStyleModel",
          "model_module_version": "1.5.0",
          "state": {
            "_model_module": "@jupyter-widgets/controls",
            "_model_module_version": "1.5.0",
            "_model_name": "ProgressStyleModel",
            "_view_count": null,
            "_view_module": "@jupyter-widgets/base",
            "_view_module_version": "1.2.0",
            "_view_name": "StyleView",
            "bar_color": null,
            "description_width": ""
          }
        },
        "f7dab587c91943b5a30c9fe3409bef04": {
          "model_module": "@jupyter-widgets/base",
          "model_name": "LayoutModel",
          "model_module_version": "1.2.0",
          "state": {
            "_model_module": "@jupyter-widgets/base",
            "_model_module_version": "1.2.0",
            "_model_name": "LayoutModel",
            "_view_count": null,
            "_view_module": "@jupyter-widgets/base",
            "_view_module_version": "1.2.0",
            "_view_name": "LayoutView",
            "align_content": null,
            "align_items": null,
            "align_self": null,
            "border": null,
            "bottom": null,
            "display": null,
            "flex": null,
            "flex_flow": null,
            "grid_area": null,
            "grid_auto_columns": null,
            "grid_auto_flow": null,
            "grid_auto_rows": null,
            "grid_column": null,
            "grid_gap": null,
            "grid_row": null,
            "grid_template_areas": null,
            "grid_template_columns": null,
            "grid_template_rows": null,
            "height": null,
            "justify_content": null,
            "justify_items": null,
            "left": null,
            "margin": null,
            "max_height": null,
            "max_width": null,
            "min_height": null,
            "min_width": null,
            "object_fit": null,
            "object_position": null,
            "order": null,
            "overflow": null,
            "overflow_x": null,
            "overflow_y": null,
            "padding": null,
            "right": null,
            "top": null,
            "visibility": null,
            "width": null
          }
        },
        "3cef4670602c4281ae726445354840a7": {
          "model_module": "@jupyter-widgets/controls",
          "model_name": "DescriptionStyleModel",
          "model_module_version": "1.5.0",
          "state": {
            "_model_module": "@jupyter-widgets/controls",
            "_model_module_version": "1.5.0",
            "_model_name": "DescriptionStyleModel",
            "_view_count": null,
            "_view_module": "@jupyter-widgets/base",
            "_view_module_version": "1.2.0",
            "_view_name": "StyleView",
            "description_width": ""
          }
        },
        "7f7625ebabf64683950b3da5dcb19223": {
          "model_module": "@jupyter-widgets/controls",
          "model_name": "HBoxModel",
          "model_module_version": "1.5.0",
          "state": {
            "_dom_classes": [],
            "_model_module": "@jupyter-widgets/controls",
            "_model_module_version": "1.5.0",
            "_model_name": "HBoxModel",
            "_view_count": null,
            "_view_module": "@jupyter-widgets/controls",
            "_view_module_version": "1.5.0",
            "_view_name": "HBoxView",
            "box_style": "",
            "children": [
              "IPY_MODEL_b779605e22744a7f90a0816dcf1f93e9",
              "IPY_MODEL_027a9c5109ab4039a33e452de04209b5",
              "IPY_MODEL_6cbc90505a0d4fd7a189f21fbbcf95f5"
            ],
            "layout": "IPY_MODEL_e8ce5aed485a4f8fbe291af95ef59f19"
          }
        },
        "b779605e22744a7f90a0816dcf1f93e9": {
          "model_module": "@jupyter-widgets/controls",
          "model_name": "HTMLModel",
          "model_module_version": "1.5.0",
          "state": {
            "_dom_classes": [],
            "_model_module": "@jupyter-widgets/controls",
            "_model_module_version": "1.5.0",
            "_model_name": "HTMLModel",
            "_view_count": null,
            "_view_module": "@jupyter-widgets/controls",
            "_view_module_version": "1.5.0",
            "_view_name": "HTMLView",
            "description": "",
            "description_tooltip": null,
            "layout": "IPY_MODEL_5d67f9091ce74e8bb2b5a3dd2f4d9d25",
            "placeholder": "​",
            "style": "IPY_MODEL_029a8cd1b4284b178398421dc874f094",
            "value": "Downloading pytorch_model.bin: 100%"
          }
        },
        "027a9c5109ab4039a33e452de04209b5": {
          "model_module": "@jupyter-widgets/controls",
          "model_name": "FloatProgressModel",
          "model_module_version": "1.5.0",
          "state": {
            "_dom_classes": [],
            "_model_module": "@jupyter-widgets/controls",
            "_model_module_version": "1.5.0",
            "_model_name": "FloatProgressModel",
            "_view_count": null,
            "_view_module": "@jupyter-widgets/controls",
            "_view_module_version": "1.5.0",
            "_view_name": "ProgressView",
            "bar_style": "success",
            "description": "",
            "description_tooltip": null,
            "layout": "IPY_MODEL_f4c85e1660ee43579facba83543dbcc0",
            "max": 441551705,
            "min": 0,
            "orientation": "horizontal",
            "style": "IPY_MODEL_0b733190a6c14746afe59f19cfe1ac61",
            "value": 441551705
          }
        },
        "6cbc90505a0d4fd7a189f21fbbcf95f5": {
          "model_module": "@jupyter-widgets/controls",
          "model_name": "HTMLModel",
          "model_module_version": "1.5.0",
          "state": {
            "_dom_classes": [],
            "_model_module": "@jupyter-widgets/controls",
            "_model_module_version": "1.5.0",
            "_model_name": "HTMLModel",
            "_view_count": null,
            "_view_module": "@jupyter-widgets/controls",
            "_view_module_version": "1.5.0",
            "_view_name": "HTMLView",
            "description": "",
            "description_tooltip": null,
            "layout": "IPY_MODEL_4c4843ea95d44d3aa8c50dfa583cd42a",
            "placeholder": "​",
            "style": "IPY_MODEL_97628e7e61da42a7a77d67f517618a16",
            "value": " 442M/442M [00:05&lt;00:00, 103MB/s]"
          }
        },
        "e8ce5aed485a4f8fbe291af95ef59f19": {
          "model_module": "@jupyter-widgets/base",
          "model_name": "LayoutModel",
          "model_module_version": "1.2.0",
          "state": {
            "_model_module": "@jupyter-widgets/base",
            "_model_module_version": "1.2.0",
            "_model_name": "LayoutModel",
            "_view_count": null,
            "_view_module": "@jupyter-widgets/base",
            "_view_module_version": "1.2.0",
            "_view_name": "LayoutView",
            "align_content": null,
            "align_items": null,
            "align_self": null,
            "border": null,
            "bottom": null,
            "display": null,
            "flex": null,
            "flex_flow": null,
            "grid_area": null,
            "grid_auto_columns": null,
            "grid_auto_flow": null,
            "grid_auto_rows": null,
            "grid_column": null,
            "grid_gap": null,
            "grid_row": null,
            "grid_template_areas": null,
            "grid_template_columns": null,
            "grid_template_rows": null,
            "height": null,
            "justify_content": null,
            "justify_items": null,
            "left": null,
            "margin": null,
            "max_height": null,
            "max_width": null,
            "min_height": null,
            "min_width": null,
            "object_fit": null,
            "object_position": null,
            "order": null,
            "overflow": null,
            "overflow_x": null,
            "overflow_y": null,
            "padding": null,
            "right": null,
            "top": null,
            "visibility": null,
            "width": null
          }
        },
        "5d67f9091ce74e8bb2b5a3dd2f4d9d25": {
          "model_module": "@jupyter-widgets/base",
          "model_name": "LayoutModel",
          "model_module_version": "1.2.0",
          "state": {
            "_model_module": "@jupyter-widgets/base",
            "_model_module_version": "1.2.0",
            "_model_name": "LayoutModel",
            "_view_count": null,
            "_view_module": "@jupyter-widgets/base",
            "_view_module_version": "1.2.0",
            "_view_name": "LayoutView",
            "align_content": null,
            "align_items": null,
            "align_self": null,
            "border": null,
            "bottom": null,
            "display": null,
            "flex": null,
            "flex_flow": null,
            "grid_area": null,
            "grid_auto_columns": null,
            "grid_auto_flow": null,
            "grid_auto_rows": null,
            "grid_column": null,
            "grid_gap": null,
            "grid_row": null,
            "grid_template_areas": null,
            "grid_template_columns": null,
            "grid_template_rows": null,
            "height": null,
            "justify_content": null,
            "justify_items": null,
            "left": null,
            "margin": null,
            "max_height": null,
            "max_width": null,
            "min_height": null,
            "min_width": null,
            "object_fit": null,
            "object_position": null,
            "order": null,
            "overflow": null,
            "overflow_x": null,
            "overflow_y": null,
            "padding": null,
            "right": null,
            "top": null,
            "visibility": null,
            "width": null
          }
        },
        "029a8cd1b4284b178398421dc874f094": {
          "model_module": "@jupyter-widgets/controls",
          "model_name": "DescriptionStyleModel",
          "model_module_version": "1.5.0",
          "state": {
            "_model_module": "@jupyter-widgets/controls",
            "_model_module_version": "1.5.0",
            "_model_name": "DescriptionStyleModel",
            "_view_count": null,
            "_view_module": "@jupyter-widgets/base",
            "_view_module_version": "1.2.0",
            "_view_name": "StyleView",
            "description_width": ""
          }
        },
        "f4c85e1660ee43579facba83543dbcc0": {
          "model_module": "@jupyter-widgets/base",
          "model_name": "LayoutModel",
          "model_module_version": "1.2.0",
          "state": {
            "_model_module": "@jupyter-widgets/base",
            "_model_module_version": "1.2.0",
            "_model_name": "LayoutModel",
            "_view_count": null,
            "_view_module": "@jupyter-widgets/base",
            "_view_module_version": "1.2.0",
            "_view_name": "LayoutView",
            "align_content": null,
            "align_items": null,
            "align_self": null,
            "border": null,
            "bottom": null,
            "display": null,
            "flex": null,
            "flex_flow": null,
            "grid_area": null,
            "grid_auto_columns": null,
            "grid_auto_flow": null,
            "grid_auto_rows": null,
            "grid_column": null,
            "grid_gap": null,
            "grid_row": null,
            "grid_template_areas": null,
            "grid_template_columns": null,
            "grid_template_rows": null,
            "height": null,
            "justify_content": null,
            "justify_items": null,
            "left": null,
            "margin": null,
            "max_height": null,
            "max_width": null,
            "min_height": null,
            "min_width": null,
            "object_fit": null,
            "object_position": null,
            "order": null,
            "overflow": null,
            "overflow_x": null,
            "overflow_y": null,
            "padding": null,
            "right": null,
            "top": null,
            "visibility": null,
            "width": null
          }
        },
        "0b733190a6c14746afe59f19cfe1ac61": {
          "model_module": "@jupyter-widgets/controls",
          "model_name": "ProgressStyleModel",
          "model_module_version": "1.5.0",
          "state": {
            "_model_module": "@jupyter-widgets/controls",
            "_model_module_version": "1.5.0",
            "_model_name": "ProgressStyleModel",
            "_view_count": null,
            "_view_module": "@jupyter-widgets/base",
            "_view_module_version": "1.2.0",
            "_view_name": "StyleView",
            "bar_color": null,
            "description_width": ""
          }
        },
        "4c4843ea95d44d3aa8c50dfa583cd42a": {
          "model_module": "@jupyter-widgets/base",
          "model_name": "LayoutModel",
          "model_module_version": "1.2.0",
          "state": {
            "_model_module": "@jupyter-widgets/base",
            "_model_module_version": "1.2.0",
            "_model_name": "LayoutModel",
            "_view_count": null,
            "_view_module": "@jupyter-widgets/base",
            "_view_module_version": "1.2.0",
            "_view_name": "LayoutView",
            "align_content": null,
            "align_items": null,
            "align_self": null,
            "border": null,
            "bottom": null,
            "display": null,
            "flex": null,
            "flex_flow": null,
            "grid_area": null,
            "grid_auto_columns": null,
            "grid_auto_flow": null,
            "grid_auto_rows": null,
            "grid_column": null,
            "grid_gap": null,
            "grid_row": null,
            "grid_template_areas": null,
            "grid_template_columns": null,
            "grid_template_rows": null,
            "height": null,
            "justify_content": null,
            "justify_items": null,
            "left": null,
            "margin": null,
            "max_height": null,
            "max_width": null,
            "min_height": null,
            "min_width": null,
            "object_fit": null,
            "object_position": null,
            "order": null,
            "overflow": null,
            "overflow_x": null,
            "overflow_y": null,
            "padding": null,
            "right": null,
            "top": null,
            "visibility": null,
            "width": null
          }
        },
        "97628e7e61da42a7a77d67f517618a16": {
          "model_module": "@jupyter-widgets/controls",
          "model_name": "DescriptionStyleModel",
          "model_module_version": "1.5.0",
          "state": {
            "_model_module": "@jupyter-widgets/controls",
            "_model_module_version": "1.5.0",
            "_model_name": "DescriptionStyleModel",
            "_view_count": null,
            "_view_module": "@jupyter-widgets/base",
            "_view_module_version": "1.2.0",
            "_view_name": "StyleView",
            "description_width": ""
          }
        },
        "259c4e8858b4491e99fb31b62e0280da": {
          "model_module": "@jupyter-widgets/controls",
          "model_name": "HBoxModel",
          "model_module_version": "1.5.0",
          "state": {
            "_dom_classes": [],
            "_model_module": "@jupyter-widgets/controls",
            "_model_module_version": "1.5.0",
            "_model_name": "HBoxModel",
            "_view_count": null,
            "_view_module": "@jupyter-widgets/controls",
            "_view_module_version": "1.5.0",
            "_view_name": "HBoxView",
            "box_style": "",
            "children": [
              "IPY_MODEL_0e18dd243d8640e19a9d6d3ac5abcf86",
              "IPY_MODEL_63e3b34a3027453b834f60760ec8eab7",
              "IPY_MODEL_5bd4dc6a921a4018b3c25e0f96557ef0"
            ],
            "layout": "IPY_MODEL_a9f2f17b315149c9a101df7593a6d836"
          }
        },
        "0e18dd243d8640e19a9d6d3ac5abcf86": {
          "model_module": "@jupyter-widgets/controls",
          "model_name": "HTMLModel",
          "model_module_version": "1.5.0",
          "state": {
            "_dom_classes": [],
            "_model_module": "@jupyter-widgets/controls",
            "_model_module_version": "1.5.0",
            "_model_name": "HTMLModel",
            "_view_count": null,
            "_view_module": "@jupyter-widgets/controls",
            "_view_module_version": "1.5.0",
            "_view_name": "HTMLView",
            "description": "",
            "description_tooltip": null,
            "layout": "IPY_MODEL_5f334ea7ceeb42af9cf5d3bed8ec18c8",
            "placeholder": "​",
            "style": "IPY_MODEL_4cdaf8a1e14847eca322b3dd1dee3f2e",
            "value": "Downloading (…)solve/main/vocab.txt: 100%"
          }
        },
        "63e3b34a3027453b834f60760ec8eab7": {
          "model_module": "@jupyter-widgets/controls",
          "model_name": "FloatProgressModel",
          "model_module_version": "1.5.0",
          "state": {
            "_dom_classes": [],
            "_model_module": "@jupyter-widgets/controls",
            "_model_module_version": "1.5.0",
            "_model_name": "FloatProgressModel",
            "_view_count": null,
            "_view_module": "@jupyter-widgets/controls",
            "_view_module_version": "1.5.0",
            "_view_name": "ProgressView",
            "bar_style": "success",
            "description": "",
            "description_tooltip": null,
            "layout": "IPY_MODEL_f6c799608f7b4c798060e9fd271f12e9",
            "max": 226122,
            "min": 0,
            "orientation": "horizontal",
            "style": "IPY_MODEL_c89a73edfd1e478a8e2055e38b19b369",
            "value": 226122
          }
        },
        "5bd4dc6a921a4018b3c25e0f96557ef0": {
          "model_module": "@jupyter-widgets/controls",
          "model_name": "HTMLModel",
          "model_module_version": "1.5.0",
          "state": {
            "_dom_classes": [],
            "_model_module": "@jupyter-widgets/controls",
            "_model_module_version": "1.5.0",
            "_model_name": "HTMLModel",
            "_view_count": null,
            "_view_module": "@jupyter-widgets/controls",
            "_view_module_version": "1.5.0",
            "_view_name": "HTMLView",
            "description": "",
            "description_tooltip": null,
            "layout": "IPY_MODEL_c0a02503176d4ea7a0fa13ed08c5c146",
            "placeholder": "​",
            "style": "IPY_MODEL_8fb0f5afb19d4cda9ef0fcecd85aeb4f",
            "value": " 226k/226k [00:00&lt;00:00, 5.02MB/s]"
          }
        },
        "a9f2f17b315149c9a101df7593a6d836": {
          "model_module": "@jupyter-widgets/base",
          "model_name": "LayoutModel",
          "model_module_version": "1.2.0",
          "state": {
            "_model_module": "@jupyter-widgets/base",
            "_model_module_version": "1.2.0",
            "_model_name": "LayoutModel",
            "_view_count": null,
            "_view_module": "@jupyter-widgets/base",
            "_view_module_version": "1.2.0",
            "_view_name": "LayoutView",
            "align_content": null,
            "align_items": null,
            "align_self": null,
            "border": null,
            "bottom": null,
            "display": null,
            "flex": null,
            "flex_flow": null,
            "grid_area": null,
            "grid_auto_columns": null,
            "grid_auto_flow": null,
            "grid_auto_rows": null,
            "grid_column": null,
            "grid_gap": null,
            "grid_row": null,
            "grid_template_areas": null,
            "grid_template_columns": null,
            "grid_template_rows": null,
            "height": null,
            "justify_content": null,
            "justify_items": null,
            "left": null,
            "margin": null,
            "max_height": null,
            "max_width": null,
            "min_height": null,
            "min_width": null,
            "object_fit": null,
            "object_position": null,
            "order": null,
            "overflow": null,
            "overflow_x": null,
            "overflow_y": null,
            "padding": null,
            "right": null,
            "top": null,
            "visibility": null,
            "width": null
          }
        },
        "5f334ea7ceeb42af9cf5d3bed8ec18c8": {
          "model_module": "@jupyter-widgets/base",
          "model_name": "LayoutModel",
          "model_module_version": "1.2.0",
          "state": {
            "_model_module": "@jupyter-widgets/base",
            "_model_module_version": "1.2.0",
            "_model_name": "LayoutModel",
            "_view_count": null,
            "_view_module": "@jupyter-widgets/base",
            "_view_module_version": "1.2.0",
            "_view_name": "LayoutView",
            "align_content": null,
            "align_items": null,
            "align_self": null,
            "border": null,
            "bottom": null,
            "display": null,
            "flex": null,
            "flex_flow": null,
            "grid_area": null,
            "grid_auto_columns": null,
            "grid_auto_flow": null,
            "grid_auto_rows": null,
            "grid_column": null,
            "grid_gap": null,
            "grid_row": null,
            "grid_template_areas": null,
            "grid_template_columns": null,
            "grid_template_rows": null,
            "height": null,
            "justify_content": null,
            "justify_items": null,
            "left": null,
            "margin": null,
            "max_height": null,
            "max_width": null,
            "min_height": null,
            "min_width": null,
            "object_fit": null,
            "object_position": null,
            "order": null,
            "overflow": null,
            "overflow_x": null,
            "overflow_y": null,
            "padding": null,
            "right": null,
            "top": null,
            "visibility": null,
            "width": null
          }
        },
        "4cdaf8a1e14847eca322b3dd1dee3f2e": {
          "model_module": "@jupyter-widgets/controls",
          "model_name": "DescriptionStyleModel",
          "model_module_version": "1.5.0",
          "state": {
            "_model_module": "@jupyter-widgets/controls",
            "_model_module_version": "1.5.0",
            "_model_name": "DescriptionStyleModel",
            "_view_count": null,
            "_view_module": "@jupyter-widgets/base",
            "_view_module_version": "1.2.0",
            "_view_name": "StyleView",
            "description_width": ""
          }
        },
        "f6c799608f7b4c798060e9fd271f12e9": {
          "model_module": "@jupyter-widgets/base",
          "model_name": "LayoutModel",
          "model_module_version": "1.2.0",
          "state": {
            "_model_module": "@jupyter-widgets/base",
            "_model_module_version": "1.2.0",
            "_model_name": "LayoutModel",
            "_view_count": null,
            "_view_module": "@jupyter-widgets/base",
            "_view_module_version": "1.2.0",
            "_view_name": "LayoutView",
            "align_content": null,
            "align_items": null,
            "align_self": null,
            "border": null,
            "bottom": null,
            "display": null,
            "flex": null,
            "flex_flow": null,
            "grid_area": null,
            "grid_auto_columns": null,
            "grid_auto_flow": null,
            "grid_auto_rows": null,
            "grid_column": null,
            "grid_gap": null,
            "grid_row": null,
            "grid_template_areas": null,
            "grid_template_columns": null,
            "grid_template_rows": null,
            "height": null,
            "justify_content": null,
            "justify_items": null,
            "left": null,
            "margin": null,
            "max_height": null,
            "max_width": null,
            "min_height": null,
            "min_width": null,
            "object_fit": null,
            "object_position": null,
            "order": null,
            "overflow": null,
            "overflow_x": null,
            "overflow_y": null,
            "padding": null,
            "right": null,
            "top": null,
            "visibility": null,
            "width": null
          }
        },
        "c89a73edfd1e478a8e2055e38b19b369": {
          "model_module": "@jupyter-widgets/controls",
          "model_name": "ProgressStyleModel",
          "model_module_version": "1.5.0",
          "state": {
            "_model_module": "@jupyter-widgets/controls",
            "_model_module_version": "1.5.0",
            "_model_name": "ProgressStyleModel",
            "_view_count": null,
            "_view_module": "@jupyter-widgets/base",
            "_view_module_version": "1.2.0",
            "_view_name": "StyleView",
            "bar_color": null,
            "description_width": ""
          }
        },
        "c0a02503176d4ea7a0fa13ed08c5c146": {
          "model_module": "@jupyter-widgets/base",
          "model_name": "LayoutModel",
          "model_module_version": "1.2.0",
          "state": {
            "_model_module": "@jupyter-widgets/base",
            "_model_module_version": "1.2.0",
            "_model_name": "LayoutModel",
            "_view_count": null,
            "_view_module": "@jupyter-widgets/base",
            "_view_module_version": "1.2.0",
            "_view_name": "LayoutView",
            "align_content": null,
            "align_items": null,
            "align_self": null,
            "border": null,
            "bottom": null,
            "display": null,
            "flex": null,
            "flex_flow": null,
            "grid_area": null,
            "grid_auto_columns": null,
            "grid_auto_flow": null,
            "grid_auto_rows": null,
            "grid_column": null,
            "grid_gap": null,
            "grid_row": null,
            "grid_template_areas": null,
            "grid_template_columns": null,
            "grid_template_rows": null,
            "height": null,
            "justify_content": null,
            "justify_items": null,
            "left": null,
            "margin": null,
            "max_height": null,
            "max_width": null,
            "min_height": null,
            "min_width": null,
            "object_fit": null,
            "object_position": null,
            "order": null,
            "overflow": null,
            "overflow_x": null,
            "overflow_y": null,
            "padding": null,
            "right": null,
            "top": null,
            "visibility": null,
            "width": null
          }
        },
        "8fb0f5afb19d4cda9ef0fcecd85aeb4f": {
          "model_module": "@jupyter-widgets/controls",
          "model_name": "DescriptionStyleModel",
          "model_module_version": "1.5.0",
          "state": {
            "_model_module": "@jupyter-widgets/controls",
            "_model_module_version": "1.5.0",
            "_model_name": "DescriptionStyleModel",
            "_view_count": null,
            "_view_module": "@jupyter-widgets/base",
            "_view_module_version": "1.2.0",
            "_view_name": "StyleView",
            "description_width": ""
          }
        }
      }
    }
  },
  "nbformat": 4,
  "nbformat_minor": 0
}