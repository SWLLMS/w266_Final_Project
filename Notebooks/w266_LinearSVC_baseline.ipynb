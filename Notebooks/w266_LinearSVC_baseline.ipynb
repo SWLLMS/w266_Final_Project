{
 "cells": [
  {
   "cell_type": "code",
   "execution_count": 2,
   "metadata": {},
   "outputs": [],
   "source": [
    "## Libraries and packages\n",
    "\n",
    "# data processessing packages\n",
    "import numpy as np\n",
    "import pandas as pd\n",
    "import re\n",
    "\n",
    "# ml packages\n",
    "from sklearn.feature_extraction.text import CountVectorizer\n",
    "from sklearn.feature_extraction.text import TfidfTransformer, TfidfVectorizer\n",
    "from sklearn.model_selection import train_test_split\n",
    "from sklearn.metrics import classification_report\n",
    "\n",
    "from sklearn.svm import SVC\n",
    "from sklearn.linear_model import SGDClassifier\n",
    "from sklearn.svm import LinearSVC\n",
    "from sklearn.multiclass import OneVsRestClassifier\n",
    "from sklearn.linear_model import LogisticRegression"
   ]
  },
  {
   "attachments": {},
   "cell_type": "markdown",
   "metadata": {},
   "source": [
    "## Loading the data"
   ]
  },
  {
   "cell_type": "code",
   "execution_count": 3,
   "metadata": {},
   "outputs": [],
   "source": [
    "train_data = pd.read_csv('../data/clean_train_data.csv')\n",
    "test_data = pd.read_csv('../data/clean_test_data.csv')"
   ]
  },
  {
   "cell_type": "code",
   "execution_count": 4,
   "metadata": {},
   "outputs": [
    {
     "data": {
      "text/html": [
       "<div>\n",
       "<style scoped>\n",
       "    .dataframe tbody tr th:only-of-type {\n",
       "        vertical-align: middle;\n",
       "    }\n",
       "\n",
       "    .dataframe tbody tr th {\n",
       "        vertical-align: top;\n",
       "    }\n",
       "\n",
       "    .dataframe thead th {\n",
       "        text-align: right;\n",
       "    }\n",
       "</style>\n",
       "<table border=\"1\" class=\"dataframe\">\n",
       "  <thead>\n",
       "    <tr style=\"text-align: right;\">\n",
       "      <th></th>\n",
       "      <th>Unnamed: 0</th>\n",
       "      <th>text</th>\n",
       "      <th>label</th>\n",
       "    </tr>\n",
       "  </thead>\n",
       "  <tbody>\n",
       "    <tr>\n",
       "      <th>0</th>\n",
       "      <td>0</td>\n",
       "      <td>Here are Thursday's biggest analyst calls: App...</td>\n",
       "      <td>0</td>\n",
       "    </tr>\n",
       "    <tr>\n",
       "      <th>1</th>\n",
       "      <td>1</td>\n",
       "      <td>Buy Las Vegas Sands as travel to Singapore bui...</td>\n",
       "      <td>0</td>\n",
       "    </tr>\n",
       "    <tr>\n",
       "      <th>2</th>\n",
       "      <td>2</td>\n",
       "      <td>Piper Sandler downgrades DocuSign to sell, cit...</td>\n",
       "      <td>0</td>\n",
       "    </tr>\n",
       "    <tr>\n",
       "      <th>3</th>\n",
       "      <td>3</td>\n",
       "      <td>Analysts react to Tesla's latest earnings, bre...</td>\n",
       "      <td>0</td>\n",
       "    </tr>\n",
       "    <tr>\n",
       "      <th>4</th>\n",
       "      <td>4</td>\n",
       "      <td>Netflix and its peers are set for a ‘return to...</td>\n",
       "      <td>0</td>\n",
       "    </tr>\n",
       "    <tr>\n",
       "      <th>...</th>\n",
       "      <td>...</td>\n",
       "      <td>...</td>\n",
       "      <td>...</td>\n",
       "    </tr>\n",
       "    <tr>\n",
       "      <th>16985</th>\n",
       "      <td>16985</td>\n",
       "      <td>KfW credit line for Uniper could be raised to ...</td>\n",
       "      <td>3</td>\n",
       "    </tr>\n",
       "    <tr>\n",
       "      <th>16986</th>\n",
       "      <td>16986</td>\n",
       "      <td>KfW credit line for Uniper could be raised to ...</td>\n",
       "      <td>3</td>\n",
       "    </tr>\n",
       "    <tr>\n",
       "      <th>16987</th>\n",
       "      <td>16987</td>\n",
       "      <td>Russian   sells 1 bln roubles at one-year repo...</td>\n",
       "      <td>3</td>\n",
       "    </tr>\n",
       "    <tr>\n",
       "      <th>16988</th>\n",
       "      <td>16988</td>\n",
       "      <td>Global ESG bond issuance posts H1 dip as supra...</td>\n",
       "      <td>3</td>\n",
       "    </tr>\n",
       "    <tr>\n",
       "      <th>16989</th>\n",
       "      <td>16989</td>\n",
       "      <td>Brazil's Petrobras says it signed a $1.25 bill...</td>\n",
       "      <td>3</td>\n",
       "    </tr>\n",
       "  </tbody>\n",
       "</table>\n",
       "<p>16990 rows × 3 columns</p>\n",
       "</div>"
      ],
      "text/plain": [
       "       Unnamed: 0                                               text  label\n",
       "0               0  Here are Thursday's biggest analyst calls: App...      0\n",
       "1               1  Buy Las Vegas Sands as travel to Singapore bui...      0\n",
       "2               2  Piper Sandler downgrades DocuSign to sell, cit...      0\n",
       "3               3  Analysts react to Tesla's latest earnings, bre...      0\n",
       "4               4  Netflix and its peers are set for a ‘return to...      0\n",
       "...           ...                                                ...    ...\n",
       "16985       16985  KfW credit line for Uniper could be raised to ...      3\n",
       "16986       16986  KfW credit line for Uniper could be raised to ...      3\n",
       "16987       16987  Russian   sells 1 bln roubles at one-year repo...      3\n",
       "16988       16988  Global ESG bond issuance posts H1 dip as supra...      3\n",
       "16989       16989  Brazil's Petrobras says it signed a $1.25 bill...      3\n",
       "\n",
       "[16990 rows x 3 columns]"
      ]
     },
     "metadata": {},
     "output_type": "display_data"
    },
    {
     "data": {
      "text/html": [
       "<div>\n",
       "<style scoped>\n",
       "    .dataframe tbody tr th:only-of-type {\n",
       "        vertical-align: middle;\n",
       "    }\n",
       "\n",
       "    .dataframe tbody tr th {\n",
       "        vertical-align: top;\n",
       "    }\n",
       "\n",
       "    .dataframe thead th {\n",
       "        text-align: right;\n",
       "    }\n",
       "</style>\n",
       "<table border=\"1\" class=\"dataframe\">\n",
       "  <thead>\n",
       "    <tr style=\"text-align: right;\">\n",
       "      <th></th>\n",
       "      <th>Unnamed: 0</th>\n",
       "      <th>text</th>\n",
       "      <th>label</th>\n",
       "    </tr>\n",
       "  </thead>\n",
       "  <tbody>\n",
       "    <tr>\n",
       "      <th>0</th>\n",
       "      <td>0</td>\n",
       "      <td>Analyst call of the day for @CNBCPro subscribe...</td>\n",
       "      <td>0</td>\n",
       "    </tr>\n",
       "    <tr>\n",
       "      <th>1</th>\n",
       "      <td>1</td>\n",
       "      <td>Loop upgrades CSX to buy, says it's a good pla...</td>\n",
       "      <td>0</td>\n",
       "    </tr>\n",
       "    <tr>\n",
       "      <th>2</th>\n",
       "      <td>2</td>\n",
       "      <td>BofA believes we're already in a recession — a...</td>\n",
       "      <td>0</td>\n",
       "    </tr>\n",
       "    <tr>\n",
       "      <th>3</th>\n",
       "      <td>3</td>\n",
       "      <td>JPMorgan sees these derivative plays as best w...</td>\n",
       "      <td>0</td>\n",
       "    </tr>\n",
       "    <tr>\n",
       "      <th>4</th>\n",
       "      <td>4</td>\n",
       "      <td>Morgan Stanley's Huberty sees Apple earnings m...</td>\n",
       "      <td>0</td>\n",
       "    </tr>\n",
       "    <tr>\n",
       "      <th>...</th>\n",
       "      <td>...</td>\n",
       "      <td>...</td>\n",
       "      <td>...</td>\n",
       "    </tr>\n",
       "    <tr>\n",
       "      <th>4112</th>\n",
       "      <td>4112</td>\n",
       "      <td>Dollar bonds of Chinese developers fall as str...</td>\n",
       "      <td>3</td>\n",
       "    </tr>\n",
       "    <tr>\n",
       "      <th>4113</th>\n",
       "      <td>4113</td>\n",
       "      <td>Longer maturity Treasury yields have scope to ...</td>\n",
       "      <td>3</td>\n",
       "    </tr>\n",
       "    <tr>\n",
       "      <th>4114</th>\n",
       "      <td>4114</td>\n",
       "      <td>Pimco buys €1bn of Apollo buyout loans from ba...</td>\n",
       "      <td>3</td>\n",
       "    </tr>\n",
       "    <tr>\n",
       "      <th>4115</th>\n",
       "      <td>4115</td>\n",
       "      <td>Analysis: Banks' snubbing of junk-rated loan f...</td>\n",
       "      <td>3</td>\n",
       "    </tr>\n",
       "    <tr>\n",
       "      <th>4116</th>\n",
       "      <td>4116</td>\n",
       "      <td>U.S. Treasury seeks information on digital ass...</td>\n",
       "      <td>3</td>\n",
       "    </tr>\n",
       "  </tbody>\n",
       "</table>\n",
       "<p>4117 rows × 3 columns</p>\n",
       "</div>"
      ],
      "text/plain": [
       "      Unnamed: 0                                               text  label\n",
       "0              0  Analyst call of the day for @CNBCPro subscribe...      0\n",
       "1              1  Loop upgrades CSX to buy, says it's a good pla...      0\n",
       "2              2  BofA believes we're already in a recession — a...      0\n",
       "3              3  JPMorgan sees these derivative plays as best w...      0\n",
       "4              4  Morgan Stanley's Huberty sees Apple earnings m...      0\n",
       "...          ...                                                ...    ...\n",
       "4112        4112  Dollar bonds of Chinese developers fall as str...      3\n",
       "4113        4113  Longer maturity Treasury yields have scope to ...      3\n",
       "4114        4114  Pimco buys €1bn of Apollo buyout loans from ba...      3\n",
       "4115        4115  Analysis: Banks' snubbing of junk-rated loan f...      3\n",
       "4116        4116  U.S. Treasury seeks information on digital ass...      3\n",
       "\n",
       "[4117 rows x 3 columns]"
      ]
     },
     "metadata": {},
     "output_type": "display_data"
    }
   ],
   "source": [
    "display(train_data)\n",
    "display(test_data)"
   ]
  },
  {
   "cell_type": "code",
   "execution_count": 16,
   "metadata": {},
   "outputs": [],
   "source": [
    "## Label list\n",
    "labels = [\"Analyst Update\",\"Fed | Central Banks\",\n",
    "        \"Company | Product News\",\"Treasuries | Corporate Debt\",\n",
    "        \"Dividend\",\"Earnings\",\"Energy | Oil\",\n",
    "        \"Financials\",\"Currencies\",\"General News | Opinion\",\n",
    "        \"Gold | Metals | Materials\",\"IPO\",\"Legal | Regulation\",\n",
    "        \"M&A | Investments\",\"Macro\",\"Markets\",\"Politics\",\n",
    "        \"Personnel Change\",\"Stock Commentary\", \"Stock Movement\"]"
   ]
  },
  {
   "attachments": {},
   "cell_type": "markdown",
   "metadata": {},
   "source": [
    "## Viewing Samples"
   ]
  },
  {
   "cell_type": "code",
   "execution_count": 6,
   "metadata": {},
   "outputs": [],
   "source": [
    "## FUNCTION FOR SAMPLING DATA AND VIEWING RESULTS\n",
    "\n",
    "def preview_random_sample(df, sample_num = 5):\n",
    "    # A function to grab a random sample and display the text and associated labels\n",
    "\n",
    "    # VARIABLES\n",
    "    # df = dataframe\n",
    "    # col_name = name of column to display\n",
    "    # sample_num = number of samples to display\n",
    "\n",
    "    # generating random sample\n",
    "    random_sample = df.sample(sample_num)\n",
    "\n",
    "    # looping over sampple an displaying results\n",
    "    for i, data in enumerate(random_sample.iterrows()):\n",
    "        print(f'RECORD {i+1}')\n",
    "        print(f'Text: {data[1].text}')\n",
    "        print(f'Label: {labels[data[1].label]}\\n')\n",
    "\n",
    "    return 'SAMPLING COMPLETE'"
   ]
  },
  {
   "attachments": {},
   "cell_type": "markdown",
   "metadata": {},
   "source": [
    "#### Previewing data samples"
   ]
  },
  {
   "cell_type": "code",
   "execution_count": 7,
   "metadata": {},
   "outputs": [
    {
     "name": "stdout",
     "output_type": "stream",
     "text": [
      "Train data sample:\n",
      "---------------------------------------------------------------------------\n",
      "RECORD 1\n",
      "Text: Despite its reputation for overpowering strength and bitterness, robusta coffee is finding new followers, and Brazilian farmers are stepping in to supply it  \n",
      "Label: General News | Opinion\n",
      "\n",
      "RECORD 2\n",
      "Text: $NRDY - Dialing In On Nerdy.   #markets #economy #business\n",
      "Label: Stock Commentary\n",
      "\n",
      "RECORD 3\n",
      "Text: $XFOR - X4 Pharma to focus resources on lead drug candidate, cut workforce by about 20%  \n",
      "Label: Company | Product News\n",
      "\n",
      "RECORD 4\n",
      "Text: $CDUAF - Canadian Utilities declares CAD 0.4442 dividend  \n",
      "Label: Dividend\n",
      "\n",
      "RECORD 5\n",
      "Text: @Pres_Elect_Matt careful, right up against ⚓️VWAP from 3/29 high\n",
      "Label: Stock Commentary\n",
      "\n",
      "Test data sample:\n",
      "---------------------------------------------------------------------------\n",
      "RECORD 1\n",
      "Text: Asbury Automotive Group Schedules Release of Second Quarter 2022 Financial Results    \n",
      "Label: Earnings\n",
      "\n",
      "RECORD 2\n",
      "Text: Myers Industries Releases Inaugural Environmental, Social, and Governance Report    \n",
      "Label: Company | Product News\n",
      "\n",
      "RECORD 3\n",
      "Text: Today, @Nasdaq announces the appointment of Johan Torgeby to its Board of Directors. Torgeby is President and Group Chief Executive at @SEBGroup, a leading financial services group headquartered in Stockholm.  Learn more:    \n",
      "Label: Personnel Change\n",
      "\n",
      "RECORD 4\n",
      "Text: Stuck between $QQQ, $QQQM and $QQQJ?   Let's break down each of them one by one 👇  \n",
      "Label: Stock Commentary\n",
      "\n",
      "RECORD 5\n",
      "Text: @fed_speak My under/over on when you actually take off, given staffing shortages, is tomorrow at 1:33 pm.\n",
      "Label: General News | Opinion\n",
      "\n"
     ]
    },
    {
     "data": {
      "text/plain": [
       "'SAMPLING COMPLETE'"
      ]
     },
     "execution_count": 7,
     "metadata": {},
     "output_type": "execute_result"
    }
   ],
   "source": [
    "print('Train data sample:\\n' + '---------------'*5)\n",
    "preview_random_sample(train_data)\n",
    "\n",
    "print('Test data sample:\\n' + '---------------'*5)\n",
    "preview_random_sample(test_data)"
   ]
  },
  {
   "attachments": {},
   "cell_type": "markdown",
   "metadata": {},
   "source": [
    "#### Generate training/testing and labels"
   ]
  },
  {
   "cell_type": "code",
   "execution_count": 8,
   "metadata": {},
   "outputs": [],
   "source": [
    "## Function for selecting/encoding features and labels\n",
    "\n",
    "def model_data_labels(train_df, test_df, features = 'text', labels = 'label'):\n",
    "    # VARIABLES:\n",
    "    # df = dataframe\n",
    "    # features = name of column for features in df\n",
    "    # labels = name of column for labels in df\n",
    "\n",
    "    # selecting train features and labels\n",
    "    x_train = train_df[features]\n",
    "    y_train = train_df[labels]\n",
    "   \n",
    "    # selecting trest features and labels\n",
    "    x_test = test_df[features]\n",
    "    y_test = test_df[labels]\n",
    "\n",
    "    # encoding features   \n",
    "    vectorizer = TfidfVectorizer()\n",
    "    x_train_enc_tf = vectorizer.fit_transform(x_train)\n",
    "\n",
    " # encoding features\n",
    "    x_test_enc_tf = vectorizer.transform(x_test)\n",
    "\n",
    "    print(f'x_train shape:\\t\\t\\t\\t{x_train_enc_tf.shape}\\n' +\n",
    "          f'y_train shape:\\t\\t\\t\\t{y_train.shape}\\n' + \n",
    "          f'x_test shape:\\t\\t\\t\\t{x_test_enc_tf.shape}\\n' + \n",
    "          f'y_test shape:\\t\\t\\t\\t{y_test.shape}\\n' )\n",
    "\n",
    "    return  x_train_enc_tf, x_test_enc_tf, y_train, y_test\n",
    "\n",
    "\n",
    "\n"
   ]
  },
  {
   "cell_type": "code",
   "execution_count": 9,
   "metadata": {},
   "outputs": [
    {
     "name": "stdout",
     "output_type": "stream",
     "text": [
      "x_train shape:\t\t\t\t(16990, 23072)\n",
      "y_train shape:\t\t\t\t(16990,)\n",
      "x_test shape:\t\t\t\t(4117, 23072)\n",
      "y_test shape:\t\t\t\t(4117,)\n",
      "\n"
     ]
    }
   ],
   "source": [
    "x_train, x_test, y_train, y_test = model_data_labels(train_data, test_data)"
   ]
  },
  {
   "attachments": {},
   "cell_type": "markdown",
   "metadata": {},
   "source": [
    "## Baselines"
   ]
  },
  {
   "cell_type": "code",
   "execution_count": 10,
   "metadata": {},
   "outputs": [
    {
     "data": {
      "text/html": [
       "<style>#sk-container-id-1 {color: black;background-color: white;}#sk-container-id-1 pre{padding: 0;}#sk-container-id-1 div.sk-toggleable {background-color: white;}#sk-container-id-1 label.sk-toggleable__label {cursor: pointer;display: block;width: 100%;margin-bottom: 0;padding: 0.3em;box-sizing: border-box;text-align: center;}#sk-container-id-1 label.sk-toggleable__label-arrow:before {content: \"▸\";float: left;margin-right: 0.25em;color: #696969;}#sk-container-id-1 label.sk-toggleable__label-arrow:hover:before {color: black;}#sk-container-id-1 div.sk-estimator:hover label.sk-toggleable__label-arrow:before {color: black;}#sk-container-id-1 div.sk-toggleable__content {max-height: 0;max-width: 0;overflow: hidden;text-align: left;background-color: #f0f8ff;}#sk-container-id-1 div.sk-toggleable__content pre {margin: 0.2em;color: black;border-radius: 0.25em;background-color: #f0f8ff;}#sk-container-id-1 input.sk-toggleable__control:checked~div.sk-toggleable__content {max-height: 200px;max-width: 100%;overflow: auto;}#sk-container-id-1 input.sk-toggleable__control:checked~label.sk-toggleable__label-arrow:before {content: \"▾\";}#sk-container-id-1 div.sk-estimator input.sk-toggleable__control:checked~label.sk-toggleable__label {background-color: #d4ebff;}#sk-container-id-1 div.sk-label input.sk-toggleable__control:checked~label.sk-toggleable__label {background-color: #d4ebff;}#sk-container-id-1 input.sk-hidden--visually {border: 0;clip: rect(1px 1px 1px 1px);clip: rect(1px, 1px, 1px, 1px);height: 1px;margin: -1px;overflow: hidden;padding: 0;position: absolute;width: 1px;}#sk-container-id-1 div.sk-estimator {font-family: monospace;background-color: #f0f8ff;border: 1px dotted black;border-radius: 0.25em;box-sizing: border-box;margin-bottom: 0.5em;}#sk-container-id-1 div.sk-estimator:hover {background-color: #d4ebff;}#sk-container-id-1 div.sk-parallel-item::after {content: \"\";width: 100%;border-bottom: 1px solid gray;flex-grow: 1;}#sk-container-id-1 div.sk-label:hover label.sk-toggleable__label {background-color: #d4ebff;}#sk-container-id-1 div.sk-serial::before {content: \"\";position: absolute;border-left: 1px solid gray;box-sizing: border-box;top: 0;bottom: 0;left: 50%;z-index: 0;}#sk-container-id-1 div.sk-serial {display: flex;flex-direction: column;align-items: center;background-color: white;padding-right: 0.2em;padding-left: 0.2em;position: relative;}#sk-container-id-1 div.sk-item {position: relative;z-index: 1;}#sk-container-id-1 div.sk-parallel {display: flex;align-items: stretch;justify-content: center;background-color: white;position: relative;}#sk-container-id-1 div.sk-item::before, #sk-container-id-1 div.sk-parallel-item::before {content: \"\";position: absolute;border-left: 1px solid gray;box-sizing: border-box;top: 0;bottom: 0;left: 50%;z-index: -1;}#sk-container-id-1 div.sk-parallel-item {display: flex;flex-direction: column;z-index: 1;position: relative;background-color: white;}#sk-container-id-1 div.sk-parallel-item:first-child::after {align-self: flex-end;width: 50%;}#sk-container-id-1 div.sk-parallel-item:last-child::after {align-self: flex-start;width: 50%;}#sk-container-id-1 div.sk-parallel-item:only-child::after {width: 0;}#sk-container-id-1 div.sk-dashed-wrapped {border: 1px dashed gray;margin: 0 0.4em 0.5em 0.4em;box-sizing: border-box;padding-bottom: 0.4em;background-color: white;}#sk-container-id-1 div.sk-label label {font-family: monospace;font-weight: bold;display: inline-block;line-height: 1.2em;}#sk-container-id-1 div.sk-label-container {text-align: center;}#sk-container-id-1 div.sk-container {/* jupyter's `normalize.less` sets `[hidden] { display: none; }` but bootstrap.min.css set `[hidden] { display: none !important; }` so we also need the `!important` here to be able to override the default hidden behavior on the sphinx rendered scikit-learn.org. See: https://github.com/scikit-learn/scikit-learn/issues/21755 */display: inline-block !important;position: relative;}#sk-container-id-1 div.sk-text-repr-fallback {display: none;}</style><div id=\"sk-container-id-1\" class=\"sk-top-container\"><div class=\"sk-text-repr-fallback\"><pre>LinearSVC()</pre><b>In a Jupyter environment, please rerun this cell to show the HTML representation or trust the notebook. <br />On GitHub, the HTML representation is unable to render, please try loading this page with nbviewer.org.</b></div><div class=\"sk-container\" hidden><div class=\"sk-item\"><div class=\"sk-estimator sk-toggleable\"><input class=\"sk-toggleable__control sk-hidden--visually\" id=\"sk-estimator-id-1\" type=\"checkbox\" checked><label for=\"sk-estimator-id-1\" class=\"sk-toggleable__label sk-toggleable__label-arrow\">LinearSVC</label><div class=\"sk-toggleable__content\"><pre>LinearSVC()</pre></div></div></div></div></div>"
      ],
      "text/plain": [
       "LinearSVC()"
      ]
     },
     "execution_count": 10,
     "metadata": {},
     "output_type": "execute_result"
    }
   ],
   "source": [
    "# Creating Linear SVM model for baseline testing\n",
    "lin_svc = LinearSVC()\n",
    "lin_svc.fit(x_train, y_train)\n"
   ]
  },
  {
   "cell_type": "code",
   "execution_count": 11,
   "metadata": {},
   "outputs": [
    {
     "name": "stdout",
     "output_type": "stream",
     "text": [
      "LinearSVC()\n",
      "Test Accuracy: 0.8438\n",
      "\n"
     ]
    }
   ],
   "source": [
    "# Evaluating baseline model\n",
    "test_accuracy = lin_svc.score(x_test, y_test)\n",
    "print(f\"{str(lin_svc)}\\nTest Accuracy: {np.round(test_accuracy, decimals=4)}\\n\")"
   ]
  },
  {
   "cell_type": "code",
   "execution_count": 17,
   "metadata": {},
   "outputs": [
    {
     "name": "stdout",
     "output_type": "stream",
     "text": [
      "                             precision    recall  f1-score   support\n",
      "\n",
      "             Analyst Update     0.8833    0.7260    0.7970        73\n",
      "        Fed | Central Banks     0.8565    0.8364    0.8463       214\n",
      "     Company | Product News     0.8207    0.8862    0.8521       852\n",
      "Treasuries | Corporate Debt     0.9180    0.7273    0.8116        77\n",
      "                   Dividend     0.9320    0.9897    0.9600        97\n",
      "                   Earnings     0.9538    0.9380    0.9458       242\n",
      "               Energy | Oil     0.8056    0.7945    0.8000       146\n",
      "                 Financials     0.8718    0.8500    0.8608       160\n",
      "                 Currencies     0.8519    0.7188    0.7797        32\n",
      "     General News | Opinion     0.8000    0.7738    0.7867       336\n",
      "  Gold | Metals | Materials     0.4667    0.5385    0.5000        13\n",
      "                        IPO     0.8667    0.9286    0.8966        14\n",
      "         Legal | Regulation     0.9327    0.8151    0.8700       119\n",
      "          M&A | Investments     0.8571    0.6724    0.7536       116\n",
      "                      Macro     0.7790    0.8410    0.8088       415\n",
      "                    Markets     0.8598    0.7360    0.7931       125\n",
      "                   Politics     0.9143    0.8996    0.9069       249\n",
      "           Personnel Change     0.9381    0.8125    0.8708       112\n",
      "           Stock Commentary     0.8176    0.8996    0.8566       528\n",
      "             Stock Movement     0.8596    0.7462    0.7989       197\n",
      "\n",
      "                   accuracy                         0.8438      4117\n",
      "                  macro avg     0.8493    0.8065    0.8248      4117\n",
      "               weighted avg     0.8465    0.8438    0.8432      4117\n",
      "\n"
     ]
    }
   ],
   "source": [
    "# Computing F1 Scores\n",
    "svc_pred = lin_svc.predict(x_test)\n",
    "print(classification_report(y_test, svc_pred, target_names=labels, digits=4))\n",
    "\n"
   ]
  },
  {
   "cell_type": "code",
   "execution_count": null,
   "metadata": {},
   "outputs": [],
   "source": []
  }
 ],
 "metadata": {
  "kernelspec": {
   "display_name": "NLPenv",
   "language": "python",
   "name": "python3"
  },
  "language_info": {
   "codemirror_mode": {
    "name": "ipython",
    "version": 3
   },
   "file_extension": ".py",
   "mimetype": "text/x-python",
   "name": "python",
   "nbconvert_exporter": "python",
   "pygments_lexer": "ipython3",
   "version": "3.9.16"
  },
  "orig_nbformat": 4
 },
 "nbformat": 4,
 "nbformat_minor": 2
}
